{
 "cells": [
  {
   "cell_type": "markdown",
   "metadata": {},
   "source": [
    "# App Rating Prediction"
   ]
  },
  {
   "cell_type": "markdown",
   "metadata": {},
   "source": [
    "### Ankit Parashar"
   ]
  },
  {
   "cell_type": "markdown",
   "metadata": {},
   "source": [
    "DESCRIPTION\n",
    "\n",
    "**Objective:** Make a model to predict the app rating, with other information about the app provided.\n",
    "\n",
    "**Problem Statement:**\n",
    "\n",
    "Google Play Store team is about to launch a new feature wherein, certain apps that are promising, are boosted in visibility. The boost will manifest in multiple ways including higher priority in recommendations sections (“Similar apps”, “You might also like”, “New and updated games”). These will also get a boost in search results visibility.  This feature will help bring more attention to newer apps that have the potential."
   ]
  },
  {
   "cell_type": "markdown",
   "metadata": {},
   "source": [
    "#### 1. Load the data file using pandas"
   ]
  },
  {
   "cell_type": "code",
   "execution_count": 1,
   "metadata": {},
   "outputs": [],
   "source": [
    "# Importing the required libraries\n",
    "import pandas as pd\n",
    "import matplotlib.pyplot as plt\n",
    "import seaborn as sns\n",
    "import numpy as np\n",
    "from sklearn.model_selection import train_test_split\n",
    "from sklearn.linear_model import LinearRegression"
   ]
  },
  {
   "cell_type": "code",
   "execution_count": 2,
   "metadata": {},
   "outputs": [],
   "source": [
    "# Importing the data\n",
    "df = pd.read_csv('googleplaystore.csv')"
   ]
  },
  {
   "cell_type": "code",
   "execution_count": 3,
   "metadata": {},
   "outputs": [
    {
     "data": {
      "text/html": [
       "<div>\n",
       "<style scoped>\n",
       "    .dataframe tbody tr th:only-of-type {\n",
       "        vertical-align: middle;\n",
       "    }\n",
       "\n",
       "    .dataframe tbody tr th {\n",
       "        vertical-align: top;\n",
       "    }\n",
       "\n",
       "    .dataframe thead th {\n",
       "        text-align: right;\n",
       "    }\n",
       "</style>\n",
       "<table border=\"1\" class=\"dataframe\">\n",
       "  <thead>\n",
       "    <tr style=\"text-align: right;\">\n",
       "      <th></th>\n",
       "      <th>App</th>\n",
       "      <th>Category</th>\n",
       "      <th>Rating</th>\n",
       "      <th>Reviews</th>\n",
       "      <th>Size</th>\n",
       "      <th>Installs</th>\n",
       "      <th>Type</th>\n",
       "      <th>Price</th>\n",
       "      <th>Content Rating</th>\n",
       "      <th>Genres</th>\n",
       "      <th>Last Updated</th>\n",
       "      <th>Current Ver</th>\n",
       "      <th>Android Ver</th>\n",
       "    </tr>\n",
       "  </thead>\n",
       "  <tbody>\n",
       "    <tr>\n",
       "      <th>0</th>\n",
       "      <td>Photo Editor &amp; Candy Camera &amp; Grid &amp; ScrapBook</td>\n",
       "      <td>ART_AND_DESIGN</td>\n",
       "      <td>4.1</td>\n",
       "      <td>159</td>\n",
       "      <td>19M</td>\n",
       "      <td>10,000+</td>\n",
       "      <td>Free</td>\n",
       "      <td>0</td>\n",
       "      <td>Everyone</td>\n",
       "      <td>Art &amp; Design</td>\n",
       "      <td>January 7, 2018</td>\n",
       "      <td>1.0.0</td>\n",
       "      <td>4.0.3 and up</td>\n",
       "    </tr>\n",
       "    <tr>\n",
       "      <th>1</th>\n",
       "      <td>Coloring book moana</td>\n",
       "      <td>ART_AND_DESIGN</td>\n",
       "      <td>3.9</td>\n",
       "      <td>967</td>\n",
       "      <td>14M</td>\n",
       "      <td>500,000+</td>\n",
       "      <td>Free</td>\n",
       "      <td>0</td>\n",
       "      <td>Everyone</td>\n",
       "      <td>Art &amp; Design;Pretend Play</td>\n",
       "      <td>January 15, 2018</td>\n",
       "      <td>2.0.0</td>\n",
       "      <td>4.0.3 and up</td>\n",
       "    </tr>\n",
       "    <tr>\n",
       "      <th>2</th>\n",
       "      <td>U Launcher Lite – FREE Live Cool Themes, Hide ...</td>\n",
       "      <td>ART_AND_DESIGN</td>\n",
       "      <td>4.7</td>\n",
       "      <td>87510</td>\n",
       "      <td>8.7M</td>\n",
       "      <td>5,000,000+</td>\n",
       "      <td>Free</td>\n",
       "      <td>0</td>\n",
       "      <td>Everyone</td>\n",
       "      <td>Art &amp; Design</td>\n",
       "      <td>August 1, 2018</td>\n",
       "      <td>1.2.4</td>\n",
       "      <td>4.0.3 and up</td>\n",
       "    </tr>\n",
       "    <tr>\n",
       "      <th>3</th>\n",
       "      <td>Sketch - Draw &amp; Paint</td>\n",
       "      <td>ART_AND_DESIGN</td>\n",
       "      <td>4.5</td>\n",
       "      <td>215644</td>\n",
       "      <td>25M</td>\n",
       "      <td>50,000,000+</td>\n",
       "      <td>Free</td>\n",
       "      <td>0</td>\n",
       "      <td>Teen</td>\n",
       "      <td>Art &amp; Design</td>\n",
       "      <td>June 8, 2018</td>\n",
       "      <td>Varies with device</td>\n",
       "      <td>4.2 and up</td>\n",
       "    </tr>\n",
       "    <tr>\n",
       "      <th>4</th>\n",
       "      <td>Pixel Draw - Number Art Coloring Book</td>\n",
       "      <td>ART_AND_DESIGN</td>\n",
       "      <td>4.3</td>\n",
       "      <td>967</td>\n",
       "      <td>2.8M</td>\n",
       "      <td>100,000+</td>\n",
       "      <td>Free</td>\n",
       "      <td>0</td>\n",
       "      <td>Everyone</td>\n",
       "      <td>Art &amp; Design;Creativity</td>\n",
       "      <td>June 20, 2018</td>\n",
       "      <td>1.1</td>\n",
       "      <td>4.4 and up</td>\n",
       "    </tr>\n",
       "  </tbody>\n",
       "</table>\n",
       "</div>"
      ],
      "text/plain": [
       "                                                 App        Category  Rating  \\\n",
       "0     Photo Editor & Candy Camera & Grid & ScrapBook  ART_AND_DESIGN     4.1   \n",
       "1                                Coloring book moana  ART_AND_DESIGN     3.9   \n",
       "2  U Launcher Lite – FREE Live Cool Themes, Hide ...  ART_AND_DESIGN     4.7   \n",
       "3                              Sketch - Draw & Paint  ART_AND_DESIGN     4.5   \n",
       "4              Pixel Draw - Number Art Coloring Book  ART_AND_DESIGN     4.3   \n",
       "\n",
       "  Reviews  Size     Installs  Type Price Content Rating  \\\n",
       "0     159   19M      10,000+  Free     0       Everyone   \n",
       "1     967   14M     500,000+  Free     0       Everyone   \n",
       "2   87510  8.7M   5,000,000+  Free     0       Everyone   \n",
       "3  215644   25M  50,000,000+  Free     0           Teen   \n",
       "4     967  2.8M     100,000+  Free     0       Everyone   \n",
       "\n",
       "                      Genres      Last Updated         Current Ver  \\\n",
       "0               Art & Design   January 7, 2018               1.0.0   \n",
       "1  Art & Design;Pretend Play  January 15, 2018               2.0.0   \n",
       "2               Art & Design    August 1, 2018               1.2.4   \n",
       "3               Art & Design      June 8, 2018  Varies with device   \n",
       "4    Art & Design;Creativity     June 20, 2018                 1.1   \n",
       "\n",
       "    Android Ver  \n",
       "0  4.0.3 and up  \n",
       "1  4.0.3 and up  \n",
       "2  4.0.3 and up  \n",
       "3    4.2 and up  \n",
       "4    4.4 and up  "
      ]
     },
     "execution_count": 3,
     "metadata": {},
     "output_type": "execute_result"
    }
   ],
   "source": [
    "df.head()"
   ]
  },
  {
   "cell_type": "code",
   "execution_count": 4,
   "metadata": {},
   "outputs": [
    {
     "name": "stdout",
     "output_type": "stream",
     "text": [
      "<class 'pandas.core.frame.DataFrame'>\n",
      "RangeIndex: 10841 entries, 0 to 10840\n",
      "Data columns (total 13 columns):\n",
      " #   Column          Non-Null Count  Dtype  \n",
      "---  ------          --------------  -----  \n",
      " 0   App             10841 non-null  object \n",
      " 1   Category        10841 non-null  object \n",
      " 2   Rating          9367 non-null   float64\n",
      " 3   Reviews         10841 non-null  object \n",
      " 4   Size            10841 non-null  object \n",
      " 5   Installs        10841 non-null  object \n",
      " 6   Type            10840 non-null  object \n",
      " 7   Price           10841 non-null  object \n",
      " 8   Content Rating  10840 non-null  object \n",
      " 9   Genres          10841 non-null  object \n",
      " 10  Last Updated    10841 non-null  object \n",
      " 11  Current Ver     10833 non-null  object \n",
      " 12  Android Ver     10838 non-null  object \n",
      "dtypes: float64(1), object(12)\n",
      "memory usage: 1.1+ MB\n"
     ]
    }
   ],
   "source": [
    "df.info()"
   ]
  },
  {
   "cell_type": "markdown",
   "metadata": {},
   "source": [
    "#### 2. Check for null values in the data. Get the number of null values for each column."
   ]
  },
  {
   "cell_type": "code",
   "execution_count": 5,
   "metadata": {},
   "outputs": [
    {
     "data": {
      "text/plain": [
       "App                  0\n",
       "Category             0\n",
       "Rating            1474\n",
       "Reviews              0\n",
       "Size                 0\n",
       "Installs             0\n",
       "Type                 1\n",
       "Price                0\n",
       "Content Rating       1\n",
       "Genres               0\n",
       "Last Updated         0\n",
       "Current Ver          8\n",
       "Android Ver          3\n",
       "dtype: int64"
      ]
     },
     "execution_count": 5,
     "metadata": {},
     "output_type": "execute_result"
    }
   ],
   "source": [
    "df.isnull().sum()"
   ]
  },
  {
   "cell_type": "markdown",
   "metadata": {},
   "source": [
    "The column **Rating** has the most null values."
   ]
  },
  {
   "cell_type": "markdown",
   "metadata": {},
   "source": [
    "#### 3. Drop records with nulls in any of the columns."
   ]
  },
  {
   "cell_type": "code",
   "execution_count": 6,
   "metadata": {},
   "outputs": [],
   "source": [
    "df.dropna(axis = 0, inplace=True)"
   ]
  },
  {
   "cell_type": "code",
   "execution_count": 7,
   "metadata": {},
   "outputs": [],
   "source": [
    "df.reset_index(inplace=True)"
   ]
  },
  {
   "cell_type": "code",
   "execution_count": 8,
   "metadata": {},
   "outputs": [
    {
     "name": "stdout",
     "output_type": "stream",
     "text": [
      "<class 'pandas.core.frame.DataFrame'>\n",
      "RangeIndex: 9360 entries, 0 to 9359\n",
      "Data columns (total 14 columns):\n",
      " #   Column          Non-Null Count  Dtype  \n",
      "---  ------          --------------  -----  \n",
      " 0   index           9360 non-null   int64  \n",
      " 1   App             9360 non-null   object \n",
      " 2   Category        9360 non-null   object \n",
      " 3   Rating          9360 non-null   float64\n",
      " 4   Reviews         9360 non-null   object \n",
      " 5   Size            9360 non-null   object \n",
      " 6   Installs        9360 non-null   object \n",
      " 7   Type            9360 non-null   object \n",
      " 8   Price           9360 non-null   object \n",
      " 9   Content Rating  9360 non-null   object \n",
      " 10  Genres          9360 non-null   object \n",
      " 11  Last Updated    9360 non-null   object \n",
      " 12  Current Ver     9360 non-null   object \n",
      " 13  Android Ver     9360 non-null   object \n",
      "dtypes: float64(1), int64(1), object(12)\n",
      "memory usage: 1023.9+ KB\n"
     ]
    }
   ],
   "source": [
    "df.info()"
   ]
  },
  {
   "cell_type": "markdown",
   "metadata": {},
   "source": [
    "The data frame is now free from any null records."
   ]
  },
  {
   "cell_type": "markdown",
   "metadata": {},
   "source": [
    "#### 4. Variables seem to have incorrect type and inconsistent formatting. You need to fix them:"
   ]
  },
  {
   "cell_type": "markdown",
   "metadata": {},
   "source": [
    "##### 1. Size column has sizes in Kb as well as Mb. To analyze, you’ll need to convert these to numeric."
   ]
  },
  {
   "cell_type": "markdown",
   "metadata": {},
   "source": [
    "1. Extract the numeric value from the column"
   ]
  },
  {
   "cell_type": "markdown",
   "metadata": {},
   "source": [
    "2. Multiply the value by 1,000, if size is mentioned in Mb"
   ]
  },
  {
   "cell_type": "markdown",
   "metadata": {},
   "source": [
    "Let us first check if the data frame has any value apart from the ones mentioned in MB or kB. We will then check how to treat those."
   ]
  },
  {
   "cell_type": "code",
   "execution_count": 9,
   "metadata": {},
   "outputs": [
    {
     "data": {
      "text/plain": [
       "Varies with device    1637\n",
       "Name: Size, dtype: int64"
      ]
     },
     "execution_count": 9,
     "metadata": {},
     "output_type": "execute_result"
    }
   ],
   "source": [
    "df[(df['Size'].str.endswith('M') == False) & (df['Size'].str.endswith('k') == False)]['Size'].value_counts()"
   ]
  },
  {
   "cell_type": "markdown",
   "metadata": {},
   "source": [
    "There is a value **Varies with device** on 1637 records. We will need to remove these records as these are as good as null values for us."
   ]
  },
  {
   "cell_type": "code",
   "execution_count": 10,
   "metadata": {},
   "outputs": [],
   "source": [
    "df = df[df['Size'] != 'Varies with device']"
   ]
  },
  {
   "cell_type": "code",
   "execution_count": 11,
   "metadata": {},
   "outputs": [
    {
     "data": {
      "text/plain": [
       "Series([], Name: Size, dtype: int64)"
      ]
     },
     "execution_count": 11,
     "metadata": {},
     "output_type": "execute_result"
    }
   ],
   "source": [
    "df[(df['Size'].str.endswith('M') == False) & (df['Size'].str.endswith('k') == False)]['Size'].value_counts()"
   ]
  },
  {
   "cell_type": "markdown",
   "metadata": {},
   "source": [
    "We will now tackle the problem at hand."
   ]
  },
  {
   "cell_type": "code",
   "execution_count": 12,
   "metadata": {},
   "outputs": [],
   "source": [
    "df['Size'] = df['Size'].apply(lambda x: float(x.split('M')[0]) * 1000 if x.endswith('M') else float(x.split('k')[0]))"
   ]
  },
  {
   "cell_type": "code",
   "execution_count": 13,
   "metadata": {},
   "outputs": [
    {
     "data": {
      "text/plain": [
       "0    19000.0\n",
       "1    14000.0\n",
       "2     8700.0\n",
       "3    25000.0\n",
       "4     2800.0\n",
       "Name: Size, dtype: float64"
      ]
     },
     "execution_count": 13,
     "metadata": {},
     "output_type": "execute_result"
    }
   ],
   "source": [
    "df['Size'].head()"
   ]
  },
  {
   "cell_type": "markdown",
   "metadata": {},
   "source": [
    "The **Size** column is therefore transformed into a numeric type with values corrected."
   ]
  },
  {
   "cell_type": "markdown",
   "metadata": {},
   "source": [
    "##### 2. Reviews is a numeric field that is loaded as a string field. Convert it to numeric (int/float)."
   ]
  },
  {
   "cell_type": "code",
   "execution_count": 14,
   "metadata": {},
   "outputs": [],
   "source": [
    "df['Reviews'] = df['Reviews'].astype('int64')"
   ]
  },
  {
   "cell_type": "code",
   "execution_count": 15,
   "metadata": {},
   "outputs": [
    {
     "data": {
      "text/plain": [
       "0       159\n",
       "1       967\n",
       "2     87510\n",
       "3    215644\n",
       "4       967\n",
       "Name: Reviews, dtype: int64"
      ]
     },
     "execution_count": 15,
     "metadata": {},
     "output_type": "execute_result"
    }
   ],
   "source": [
    "df['Reviews'].head()"
   ]
  },
  {
   "cell_type": "markdown",
   "metadata": {},
   "source": [
    "**Reviews** column is converted to 64 bit integer"
   ]
  },
  {
   "cell_type": "markdown",
   "metadata": {},
   "source": [
    "##### 3. Installs field is currently stored as string and has values like 1,000,000+."
   ]
  },
  {
   "cell_type": "markdown",
   "metadata": {},
   "source": [
    "1. Treat 1,000,000+ as 1,000,000"
   ]
  },
  {
   "cell_type": "markdown",
   "metadata": {},
   "source": [
    "2. Remove ‘+’, ‘,’ from the field, convert it to integer"
   ]
  },
  {
   "cell_type": "code",
   "execution_count": 16,
   "metadata": {},
   "outputs": [],
   "source": [
    "df['Installs'] = df['Installs'].apply(lambda x: int(x.replace('+', '').replace(',', '')))"
   ]
  },
  {
   "cell_type": "markdown",
   "metadata": {},
   "source": [
    "##### 4. Price field is a string and has a symbol. Remove ‘$’ sign, and convert it to numeric."
   ]
  },
  {
   "cell_type": "code",
   "execution_count": 17,
   "metadata": {},
   "outputs": [],
   "source": [
    "df['Price'] = df['Price'].apply(lambda x: float(x.replace('$', '')))"
   ]
  },
  {
   "cell_type": "markdown",
   "metadata": {},
   "source": [
    "#### 5. Sanity Checks"
   ]
  },
  {
   "cell_type": "markdown",
   "metadata": {},
   "source": [
    "##### 1. Average rating should be between 1 and 5 as only these values are allowed on the play store. Drop the rows that have a value outside this range."
   ]
  },
  {
   "cell_type": "code",
   "execution_count": 18,
   "metadata": {},
   "outputs": [
    {
     "data": {
      "text/html": [
       "<div>\n",
       "<style scoped>\n",
       "    .dataframe tbody tr th:only-of-type {\n",
       "        vertical-align: middle;\n",
       "    }\n",
       "\n",
       "    .dataframe tbody tr th {\n",
       "        vertical-align: top;\n",
       "    }\n",
       "\n",
       "    .dataframe thead th {\n",
       "        text-align: right;\n",
       "    }\n",
       "</style>\n",
       "<table border=\"1\" class=\"dataframe\">\n",
       "  <thead>\n",
       "    <tr style=\"text-align: right;\">\n",
       "      <th></th>\n",
       "      <th>index</th>\n",
       "      <th>App</th>\n",
       "      <th>Category</th>\n",
       "      <th>Rating</th>\n",
       "      <th>Reviews</th>\n",
       "      <th>Size</th>\n",
       "      <th>Installs</th>\n",
       "      <th>Type</th>\n",
       "      <th>Price</th>\n",
       "      <th>Content Rating</th>\n",
       "      <th>Genres</th>\n",
       "      <th>Last Updated</th>\n",
       "      <th>Current Ver</th>\n",
       "      <th>Android Ver</th>\n",
       "    </tr>\n",
       "  </thead>\n",
       "  <tbody>\n",
       "  </tbody>\n",
       "</table>\n",
       "</div>"
      ],
      "text/plain": [
       "Empty DataFrame\n",
       "Columns: [index, App, Category, Rating, Reviews, Size, Installs, Type, Price, Content Rating, Genres, Last Updated, Current Ver, Android Ver]\n",
       "Index: []"
      ]
     },
     "execution_count": 18,
     "metadata": {},
     "output_type": "execute_result"
    }
   ],
   "source": [
    "df[(df['Rating'] < 1) | (df['Rating'] > 5)]"
   ]
  },
  {
   "cell_type": "markdown",
   "metadata": {},
   "source": [
    "No such record exists where the **Rating** is **<1 or >5**"
   ]
  },
  {
   "cell_type": "markdown",
   "metadata": {},
   "source": [
    "##### 2. Reviews should not be more than installs as only those who installed can review the app. If there are any such records, drop them."
   ]
  },
  {
   "cell_type": "code",
   "execution_count": 19,
   "metadata": {},
   "outputs": [
    {
     "data": {
      "text/html": [
       "<div>\n",
       "<style scoped>\n",
       "    .dataframe tbody tr th:only-of-type {\n",
       "        vertical-align: middle;\n",
       "    }\n",
       "\n",
       "    .dataframe tbody tr th {\n",
       "        vertical-align: top;\n",
       "    }\n",
       "\n",
       "    .dataframe thead th {\n",
       "        text-align: right;\n",
       "    }\n",
       "</style>\n",
       "<table border=\"1\" class=\"dataframe\">\n",
       "  <thead>\n",
       "    <tr style=\"text-align: right;\">\n",
       "      <th></th>\n",
       "      <th>index</th>\n",
       "      <th>App</th>\n",
       "      <th>Category</th>\n",
       "      <th>Rating</th>\n",
       "      <th>Reviews</th>\n",
       "      <th>Size</th>\n",
       "      <th>Installs</th>\n",
       "      <th>Type</th>\n",
       "      <th>Price</th>\n",
       "      <th>Content Rating</th>\n",
       "      <th>Genres</th>\n",
       "      <th>Last Updated</th>\n",
       "      <th>Current Ver</th>\n",
       "      <th>Android Ver</th>\n",
       "    </tr>\n",
       "  </thead>\n",
       "  <tbody>\n",
       "    <tr>\n",
       "      <th>2340</th>\n",
       "      <td>2454</td>\n",
       "      <td>KBA-EZ Health Guide</td>\n",
       "      <td>MEDICAL</td>\n",
       "      <td>5.0</td>\n",
       "      <td>4</td>\n",
       "      <td>25000.0</td>\n",
       "      <td>1</td>\n",
       "      <td>Free</td>\n",
       "      <td>0.00</td>\n",
       "      <td>Everyone</td>\n",
       "      <td>Medical</td>\n",
       "      <td>August 2, 2018</td>\n",
       "      <td>1.0.72</td>\n",
       "      <td>4.0.3 and up</td>\n",
       "    </tr>\n",
       "    <tr>\n",
       "      <th>5535</th>\n",
       "      <td>5917</td>\n",
       "      <td>Ra Ga Ba</td>\n",
       "      <td>GAME</td>\n",
       "      <td>5.0</td>\n",
       "      <td>2</td>\n",
       "      <td>20000.0</td>\n",
       "      <td>1</td>\n",
       "      <td>Paid</td>\n",
       "      <td>1.49</td>\n",
       "      <td>Everyone</td>\n",
       "      <td>Arcade</td>\n",
       "      <td>February 8, 2017</td>\n",
       "      <td>1.0.4</td>\n",
       "      <td>2.3 and up</td>\n",
       "    </tr>\n",
       "    <tr>\n",
       "      <th>6144</th>\n",
       "      <td>6700</td>\n",
       "      <td>Brick Breaker BR</td>\n",
       "      <td>GAME</td>\n",
       "      <td>5.0</td>\n",
       "      <td>7</td>\n",
       "      <td>19000.0</td>\n",
       "      <td>5</td>\n",
       "      <td>Free</td>\n",
       "      <td>0.00</td>\n",
       "      <td>Everyone</td>\n",
       "      <td>Arcade</td>\n",
       "      <td>July 23, 2018</td>\n",
       "      <td>1</td>\n",
       "      <td>4.1 and up</td>\n",
       "    </tr>\n",
       "    <tr>\n",
       "      <th>6616</th>\n",
       "      <td>7402</td>\n",
       "      <td>Trovami se ci riesci</td>\n",
       "      <td>GAME</td>\n",
       "      <td>5.0</td>\n",
       "      <td>11</td>\n",
       "      <td>6100.0</td>\n",
       "      <td>10</td>\n",
       "      <td>Free</td>\n",
       "      <td>0.00</td>\n",
       "      <td>Everyone</td>\n",
       "      <td>Arcade</td>\n",
       "      <td>March 11, 2017</td>\n",
       "      <td>0.1</td>\n",
       "      <td>2.3 and up</td>\n",
       "    </tr>\n",
       "    <tr>\n",
       "      <th>7592</th>\n",
       "      <td>8591</td>\n",
       "      <td>DN Blog</td>\n",
       "      <td>SOCIAL</td>\n",
       "      <td>5.0</td>\n",
       "      <td>20</td>\n",
       "      <td>4200.0</td>\n",
       "      <td>10</td>\n",
       "      <td>Free</td>\n",
       "      <td>0.00</td>\n",
       "      <td>Teen</td>\n",
       "      <td>Social</td>\n",
       "      <td>July 23, 2018</td>\n",
       "      <td>1</td>\n",
       "      <td>4.0 and up</td>\n",
       "    </tr>\n",
       "    <tr>\n",
       "      <th>9260</th>\n",
       "      <td>10697</td>\n",
       "      <td>Mu.F.O.</td>\n",
       "      <td>GAME</td>\n",
       "      <td>5.0</td>\n",
       "      <td>2</td>\n",
       "      <td>16000.0</td>\n",
       "      <td>1</td>\n",
       "      <td>Paid</td>\n",
       "      <td>0.99</td>\n",
       "      <td>Everyone</td>\n",
       "      <td>Arcade</td>\n",
       "      <td>March 3, 2017</td>\n",
       "      <td>1</td>\n",
       "      <td>2.3 and up</td>\n",
       "    </tr>\n",
       "  </tbody>\n",
       "</table>\n",
       "</div>"
      ],
      "text/plain": [
       "      index                   App Category  Rating  Reviews     Size  \\\n",
       "2340   2454   KBA-EZ Health Guide  MEDICAL     5.0        4  25000.0   \n",
       "5535   5917              Ra Ga Ba     GAME     5.0        2  20000.0   \n",
       "6144   6700      Brick Breaker BR     GAME     5.0        7  19000.0   \n",
       "6616   7402  Trovami se ci riesci     GAME     5.0       11   6100.0   \n",
       "7592   8591               DN Blog   SOCIAL     5.0       20   4200.0   \n",
       "9260  10697               Mu.F.O.     GAME     5.0        2  16000.0   \n",
       "\n",
       "      Installs  Type  Price Content Rating   Genres      Last Updated  \\\n",
       "2340         1  Free   0.00       Everyone  Medical    August 2, 2018   \n",
       "5535         1  Paid   1.49       Everyone   Arcade  February 8, 2017   \n",
       "6144         5  Free   0.00       Everyone   Arcade     July 23, 2018   \n",
       "6616        10  Free   0.00       Everyone   Arcade    March 11, 2017   \n",
       "7592        10  Free   0.00           Teen   Social     July 23, 2018   \n",
       "9260         1  Paid   0.99       Everyone   Arcade     March 3, 2017   \n",
       "\n",
       "     Current Ver   Android Ver  \n",
       "2340      1.0.72  4.0.3 and up  \n",
       "5535       1.0.4    2.3 and up  \n",
       "6144           1    4.1 and up  \n",
       "6616         0.1    2.3 and up  \n",
       "7592           1    4.0 and up  \n",
       "9260           1    2.3 and up  "
      ]
     },
     "execution_count": 19,
     "metadata": {},
     "output_type": "execute_result"
    }
   ],
   "source": [
    "df[df['Reviews'] > df['Installs']]"
   ]
  },
  {
   "cell_type": "code",
   "execution_count": 20,
   "metadata": {},
   "outputs": [],
   "source": [
    "df.drop(df.loc[df['Reviews'] > df['Installs']].index, axis = 0, inplace=True)"
   ]
  },
  {
   "cell_type": "markdown",
   "metadata": {},
   "source": [
    "We will also drop the unneccessary column index as we already reset it."
   ]
  },
  {
   "cell_type": "code",
   "execution_count": 21,
   "metadata": {},
   "outputs": [],
   "source": [
    "df.drop(['index'], axis = 1, inplace=True)"
   ]
  },
  {
   "cell_type": "code",
   "execution_count": 22,
   "metadata": {},
   "outputs": [
    {
     "name": "stdout",
     "output_type": "stream",
     "text": [
      "<class 'pandas.core.frame.DataFrame'>\n",
      "Int64Index: 7717 entries, 0 to 9359\n",
      "Data columns (total 13 columns):\n",
      " #   Column          Non-Null Count  Dtype  \n",
      "---  ------          --------------  -----  \n",
      " 0   App             7717 non-null   object \n",
      " 1   Category        7717 non-null   object \n",
      " 2   Rating          7717 non-null   float64\n",
      " 3   Reviews         7717 non-null   int64  \n",
      " 4   Size            7717 non-null   float64\n",
      " 5   Installs        7717 non-null   int64  \n",
      " 6   Type            7717 non-null   object \n",
      " 7   Price           7717 non-null   float64\n",
      " 8   Content Rating  7717 non-null   object \n",
      " 9   Genres          7717 non-null   object \n",
      " 10  Last Updated    7717 non-null   object \n",
      " 11  Current Ver     7717 non-null   object \n",
      " 12  Android Ver     7717 non-null   object \n",
      "dtypes: float64(3), int64(2), object(8)\n",
      "memory usage: 844.0+ KB\n"
     ]
    }
   ],
   "source": [
    "df.info()"
   ]
  },
  {
   "cell_type": "code",
   "execution_count": 23,
   "metadata": {},
   "outputs": [
    {
     "data": {
      "text/html": [
       "<div>\n",
       "<style scoped>\n",
       "    .dataframe tbody tr th:only-of-type {\n",
       "        vertical-align: middle;\n",
       "    }\n",
       "\n",
       "    .dataframe tbody tr th {\n",
       "        vertical-align: top;\n",
       "    }\n",
       "\n",
       "    .dataframe thead th {\n",
       "        text-align: right;\n",
       "    }\n",
       "</style>\n",
       "<table border=\"1\" class=\"dataframe\">\n",
       "  <thead>\n",
       "    <tr style=\"text-align: right;\">\n",
       "      <th></th>\n",
       "      <th>App</th>\n",
       "      <th>Category</th>\n",
       "      <th>Rating</th>\n",
       "      <th>Reviews</th>\n",
       "      <th>Size</th>\n",
       "      <th>Installs</th>\n",
       "      <th>Type</th>\n",
       "      <th>Price</th>\n",
       "      <th>Content Rating</th>\n",
       "      <th>Genres</th>\n",
       "      <th>Last Updated</th>\n",
       "      <th>Current Ver</th>\n",
       "      <th>Android Ver</th>\n",
       "    </tr>\n",
       "  </thead>\n",
       "  <tbody>\n",
       "  </tbody>\n",
       "</table>\n",
       "</div>"
      ],
      "text/plain": [
       "Empty DataFrame\n",
       "Columns: [App, Category, Rating, Reviews, Size, Installs, Type, Price, Content Rating, Genres, Last Updated, Current Ver, Android Ver]\n",
       "Index: []"
      ]
     },
     "execution_count": 23,
     "metadata": {},
     "output_type": "execute_result"
    }
   ],
   "source": [
    "df[(df['Type'] == 'Free') & (df['Price'] >0)]"
   ]
  },
  {
   "cell_type": "markdown",
   "metadata": {},
   "source": [
    "No such record exists where the app **Type** is **Free** and **Price** is **>0**"
   ]
  },
  {
   "cell_type": "markdown",
   "metadata": {},
   "source": [
    "#### 6. Performing univariate analysis:"
   ]
  },
  {
   "cell_type": "code",
   "execution_count": 24,
   "metadata": {},
   "outputs": [
    {
     "data": {
      "image/png": "[encoded data removed]",
      "text/plain": [
       "<Figure size 1440x1080 with 4 Axes>"
      ]
     },
     "metadata": {
      "needs_background": "light"
     },
     "output_type": "display_data"
    }
   ],
   "source": [
    "fig, axes = plt.subplots(2, 2, figsize = (20, 15))\n",
    "axes[0, 0].set_title('Boxplot for Price', fontsize = 12, fontweight = 'semibold')\n",
    "axes[0, 0].set_ylabel('Price', fontsize = 12, fontweight = 'semibold')\n",
    "sns.boxplot(y = 'Price', data = df[df['Price'] != 0], ax = axes[0, 0])\n",
    "axes[0, 1].set_title('Boxplot for Reviews', fontsize = 12, fontweight = 'semibold')\n",
    "axes[0, 1].set_ylabel('Reviews', fontsize = 12, fontweight = 'semibold')\n",
    "sns.boxplot(y = 'Reviews', data = df, ax = axes[0, 1])\n",
    "axes[1, 0].set_title('Histogram for Rating', fontsize = 12, fontweight = 'semibold')\n",
    "axes[1, 0].set_xlabel('Ratings', fontsize = 12, fontweight = 'semibold')\n",
    "sns.distplot(df['Rating'], ax = axes[1, 0])\n",
    "axes[1, 1].set_title('Histogram for Size', fontsize = 12, fontweight = 'semibold')\n",
    "axes[1, 1].set_xlabel('Size', fontsize = 12, fontweight = 'semibold')\n",
    "sns.distplot(df['Size'], ax = axes[1, 1]);"
   ]
  },
  {
   "cell_type": "markdown",
   "metadata": {},
   "source": [
    "We can infer the following by observing the \n",
    "<ul>* Price of most of the apps seems to be nominal. It is mostly a little over 0 USD for a large number of apps.</ul>\n",
    "<ul>* There are a few apps that have an unusually large number of reviews.</ul>\n",
    "<ul>* The rating for maximum number of apps is concentrated between 4 & 5</ul>\n",
    "<ul>* The most common size of the apps is around 5-10 MB</ul>"
   ]
  },
  {
   "cell_type": "markdown",
   "metadata": {},
   "source": [
    "#### 7. Outlier treatment:"
   ]
  },
  {
   "cell_type": "markdown",
   "metadata": {},
   "source": [
    "##### 1. Price: From the box plot, it seems like there are some apps with very high price. A price of $200 for an application on the Play Store is very high and suspicious!"
   ]
  },
  {
   "cell_type": "markdown",
   "metadata": {},
   "source": [
    "We will drop all records where the price is >= 200$"
   ]
  },
  {
   "cell_type": "code",
   "execution_count": 25,
   "metadata": {},
   "outputs": [
    {
     "data": {
      "text/html": [
       "<div>\n",
       "<style scoped>\n",
       "    .dataframe tbody tr th:only-of-type {\n",
       "        vertical-align: middle;\n",
       "    }\n",
       "\n",
       "    .dataframe tbody tr th {\n",
       "        vertical-align: top;\n",
       "    }\n",
       "\n",
       "    .dataframe thead th {\n",
       "        text-align: right;\n",
       "    }\n",
       "</style>\n",
       "<table border=\"1\" class=\"dataframe\">\n",
       "  <thead>\n",
       "    <tr style=\"text-align: right;\">\n",
       "      <th></th>\n",
       "      <th>App</th>\n",
       "      <th>Category</th>\n",
       "      <th>Rating</th>\n",
       "      <th>Reviews</th>\n",
       "      <th>Size</th>\n",
       "      <th>Installs</th>\n",
       "      <th>Type</th>\n",
       "      <th>Price</th>\n",
       "      <th>Content Rating</th>\n",
       "      <th>Genres</th>\n",
       "      <th>Last Updated</th>\n",
       "      <th>Current Ver</th>\n",
       "      <th>Android Ver</th>\n",
       "    </tr>\n",
       "  </thead>\n",
       "  <tbody>\n",
       "    <tr>\n",
       "      <th>4036</th>\n",
       "      <td>most expensive app (H)</td>\n",
       "      <td>FAMILY</td>\n",
       "      <td>4.3</td>\n",
       "      <td>6</td>\n",
       "      <td>1500.0</td>\n",
       "      <td>100</td>\n",
       "      <td>Paid</td>\n",
       "      <td>399.99</td>\n",
       "      <td>Everyone</td>\n",
       "      <td>Entertainment</td>\n",
       "      <td>July 16, 2018</td>\n",
       "      <td>1</td>\n",
       "      <td>7.0 and up</td>\n",
       "    </tr>\n",
       "    <tr>\n",
       "      <th>4189</th>\n",
       "      <td>💎 I'm rich</td>\n",
       "      <td>LIFESTYLE</td>\n",
       "      <td>3.8</td>\n",
       "      <td>718</td>\n",
       "      <td>26000.0</td>\n",
       "      <td>10000</td>\n",
       "      <td>Paid</td>\n",
       "      <td>399.99</td>\n",
       "      <td>Everyone</td>\n",
       "      <td>Lifestyle</td>\n",
       "      <td>March 11, 2018</td>\n",
       "      <td>1.0.0</td>\n",
       "      <td>4.4 and up</td>\n",
       "    </tr>\n",
       "    <tr>\n",
       "      <th>4194</th>\n",
       "      <td>I'm Rich - Trump Edition</td>\n",
       "      <td>LIFESTYLE</td>\n",
       "      <td>3.6</td>\n",
       "      <td>275</td>\n",
       "      <td>7300.0</td>\n",
       "      <td>10000</td>\n",
       "      <td>Paid</td>\n",
       "      <td>400.00</td>\n",
       "      <td>Everyone</td>\n",
       "      <td>Lifestyle</td>\n",
       "      <td>May 3, 2018</td>\n",
       "      <td>1.0.1</td>\n",
       "      <td>4.1 and up</td>\n",
       "    </tr>\n",
       "    <tr>\n",
       "      <th>5042</th>\n",
       "      <td>I am rich</td>\n",
       "      <td>LIFESTYLE</td>\n",
       "      <td>3.8</td>\n",
       "      <td>3547</td>\n",
       "      <td>1800.0</td>\n",
       "      <td>100000</td>\n",
       "      <td>Paid</td>\n",
       "      <td>399.99</td>\n",
       "      <td>Everyone</td>\n",
       "      <td>Lifestyle</td>\n",
       "      <td>January 12, 2018</td>\n",
       "      <td>2</td>\n",
       "      <td>4.0.3 and up</td>\n",
       "    </tr>\n",
       "    <tr>\n",
       "      <th>5045</th>\n",
       "      <td>I am Rich Plus</td>\n",
       "      <td>FAMILY</td>\n",
       "      <td>4.0</td>\n",
       "      <td>856</td>\n",
       "      <td>8700.0</td>\n",
       "      <td>10000</td>\n",
       "      <td>Paid</td>\n",
       "      <td>399.99</td>\n",
       "      <td>Everyone</td>\n",
       "      <td>Entertainment</td>\n",
       "      <td>May 19, 2018</td>\n",
       "      <td>3</td>\n",
       "      <td>4.4 and up</td>\n",
       "    </tr>\n",
       "    <tr>\n",
       "      <th>5046</th>\n",
       "      <td>I am rich VIP</td>\n",
       "      <td>LIFESTYLE</td>\n",
       "      <td>3.8</td>\n",
       "      <td>411</td>\n",
       "      <td>2600.0</td>\n",
       "      <td>10000</td>\n",
       "      <td>Paid</td>\n",
       "      <td>299.99</td>\n",
       "      <td>Everyone</td>\n",
       "      <td>Lifestyle</td>\n",
       "      <td>July 21, 2018</td>\n",
       "      <td>1.1.1</td>\n",
       "      <td>4.3 and up</td>\n",
       "    </tr>\n",
       "    <tr>\n",
       "      <th>5047</th>\n",
       "      <td>I Am Rich Premium</td>\n",
       "      <td>FINANCE</td>\n",
       "      <td>4.1</td>\n",
       "      <td>1867</td>\n",
       "      <td>4700.0</td>\n",
       "      <td>50000</td>\n",
       "      <td>Paid</td>\n",
       "      <td>399.99</td>\n",
       "      <td>Everyone</td>\n",
       "      <td>Finance</td>\n",
       "      <td>November 12, 2017</td>\n",
       "      <td>1.6</td>\n",
       "      <td>4.0 and up</td>\n",
       "    </tr>\n",
       "    <tr>\n",
       "      <th>5048</th>\n",
       "      <td>I am extremely Rich</td>\n",
       "      <td>LIFESTYLE</td>\n",
       "      <td>2.9</td>\n",
       "      <td>41</td>\n",
       "      <td>2900.0</td>\n",
       "      <td>1000</td>\n",
       "      <td>Paid</td>\n",
       "      <td>379.99</td>\n",
       "      <td>Everyone</td>\n",
       "      <td>Lifestyle</td>\n",
       "      <td>July 1, 2018</td>\n",
       "      <td>1</td>\n",
       "      <td>4.0 and up</td>\n",
       "    </tr>\n",
       "    <tr>\n",
       "      <th>5049</th>\n",
       "      <td>I am Rich!</td>\n",
       "      <td>FINANCE</td>\n",
       "      <td>3.8</td>\n",
       "      <td>93</td>\n",
       "      <td>22000.0</td>\n",
       "      <td>1000</td>\n",
       "      <td>Paid</td>\n",
       "      <td>399.99</td>\n",
       "      <td>Everyone</td>\n",
       "      <td>Finance</td>\n",
       "      <td>December 11, 2017</td>\n",
       "      <td>1</td>\n",
       "      <td>4.1 and up</td>\n",
       "    </tr>\n",
       "    <tr>\n",
       "      <th>5050</th>\n",
       "      <td>I am rich(premium)</td>\n",
       "      <td>FINANCE</td>\n",
       "      <td>3.5</td>\n",
       "      <td>472</td>\n",
       "      <td>965.0</td>\n",
       "      <td>5000</td>\n",
       "      <td>Paid</td>\n",
       "      <td>399.99</td>\n",
       "      <td>Everyone</td>\n",
       "      <td>Finance</td>\n",
       "      <td>May 1, 2017</td>\n",
       "      <td>3.4</td>\n",
       "      <td>4.4 and up</td>\n",
       "    </tr>\n",
       "    <tr>\n",
       "      <th>5053</th>\n",
       "      <td>I Am Rich Pro</td>\n",
       "      <td>FAMILY</td>\n",
       "      <td>4.4</td>\n",
       "      <td>201</td>\n",
       "      <td>2700.0</td>\n",
       "      <td>5000</td>\n",
       "      <td>Paid</td>\n",
       "      <td>399.99</td>\n",
       "      <td>Everyone</td>\n",
       "      <td>Entertainment</td>\n",
       "      <td>May 30, 2017</td>\n",
       "      <td>1.54</td>\n",
       "      <td>1.6 and up</td>\n",
       "    </tr>\n",
       "    <tr>\n",
       "      <th>5055</th>\n",
       "      <td>I am rich (Most expensive app)</td>\n",
       "      <td>FINANCE</td>\n",
       "      <td>4.1</td>\n",
       "      <td>129</td>\n",
       "      <td>2700.0</td>\n",
       "      <td>1000</td>\n",
       "      <td>Paid</td>\n",
       "      <td>399.99</td>\n",
       "      <td>Teen</td>\n",
       "      <td>Finance</td>\n",
       "      <td>December 6, 2017</td>\n",
       "      <td>2</td>\n",
       "      <td>4.0.3 and up</td>\n",
       "    </tr>\n",
       "    <tr>\n",
       "      <th>5057</th>\n",
       "      <td>I Am Rich</td>\n",
       "      <td>FAMILY</td>\n",
       "      <td>3.6</td>\n",
       "      <td>217</td>\n",
       "      <td>4900.0</td>\n",
       "      <td>10000</td>\n",
       "      <td>Paid</td>\n",
       "      <td>389.99</td>\n",
       "      <td>Everyone</td>\n",
       "      <td>Entertainment</td>\n",
       "      <td>June 22, 2018</td>\n",
       "      <td>1.5</td>\n",
       "      <td>4.2 and up</td>\n",
       "    </tr>\n",
       "    <tr>\n",
       "      <th>5060</th>\n",
       "      <td>I am Rich</td>\n",
       "      <td>FINANCE</td>\n",
       "      <td>4.3</td>\n",
       "      <td>180</td>\n",
       "      <td>3800.0</td>\n",
       "      <td>5000</td>\n",
       "      <td>Paid</td>\n",
       "      <td>399.99</td>\n",
       "      <td>Everyone</td>\n",
       "      <td>Finance</td>\n",
       "      <td>March 22, 2018</td>\n",
       "      <td>1</td>\n",
       "      <td>4.2 and up</td>\n",
       "    </tr>\n",
       "    <tr>\n",
       "      <th>5064</th>\n",
       "      <td>I AM RICH PRO PLUS</td>\n",
       "      <td>FINANCE</td>\n",
       "      <td>4.0</td>\n",
       "      <td>36</td>\n",
       "      <td>41000.0</td>\n",
       "      <td>1000</td>\n",
       "      <td>Paid</td>\n",
       "      <td>399.99</td>\n",
       "      <td>Everyone</td>\n",
       "      <td>Finance</td>\n",
       "      <td>June 25, 2018</td>\n",
       "      <td>1.0.2</td>\n",
       "      <td>4.1 and up</td>\n",
       "    </tr>\n",
       "  </tbody>\n",
       "</table>\n",
       "</div>"
      ],
      "text/plain": [
       "                                 App   Category  Rating  Reviews     Size  \\\n",
       "4036          most expensive app (H)     FAMILY     4.3        6   1500.0   \n",
       "4189                      💎 I'm rich  LIFESTYLE     3.8      718  26000.0   \n",
       "4194        I'm Rich - Trump Edition  LIFESTYLE     3.6      275   7300.0   \n",
       "5042                       I am rich  LIFESTYLE     3.8     3547   1800.0   \n",
       "5045                  I am Rich Plus     FAMILY     4.0      856   8700.0   \n",
       "5046                   I am rich VIP  LIFESTYLE     3.8      411   2600.0   \n",
       "5047               I Am Rich Premium    FINANCE     4.1     1867   4700.0   \n",
       "5048             I am extremely Rich  LIFESTYLE     2.9       41   2900.0   \n",
       "5049                      I am Rich!    FINANCE     3.8       93  22000.0   \n",
       "5050              I am rich(premium)    FINANCE     3.5      472    965.0   \n",
       "5053                   I Am Rich Pro     FAMILY     4.4      201   2700.0   \n",
       "5055  I am rich (Most expensive app)    FINANCE     4.1      129   2700.0   \n",
       "5057                       I Am Rich     FAMILY     3.6      217   4900.0   \n",
       "5060                       I am Rich    FINANCE     4.3      180   3800.0   \n",
       "5064              I AM RICH PRO PLUS    FINANCE     4.0       36  41000.0   \n",
       "\n",
       "      Installs  Type   Price Content Rating         Genres       Last Updated  \\\n",
       "4036       100  Paid  399.99       Everyone  Entertainment      July 16, 2018   \n",
       "4189     10000  Paid  399.99       Everyone      Lifestyle     March 11, 2018   \n",
       "4194     10000  Paid  400.00       Everyone      Lifestyle        May 3, 2018   \n",
       "5042    100000  Paid  399.99       Everyone      Lifestyle   January 12, 2018   \n",
       "5045     10000  Paid  399.99       Everyone  Entertainment       May 19, 2018   \n",
       "5046     10000  Paid  299.99       Everyone      Lifestyle      July 21, 2018   \n",
       "5047     50000  Paid  399.99       Everyone        Finance  November 12, 2017   \n",
       "5048      1000  Paid  379.99       Everyone      Lifestyle       July 1, 2018   \n",
       "5049      1000  Paid  399.99       Everyone        Finance  December 11, 2017   \n",
       "5050      5000  Paid  399.99       Everyone        Finance        May 1, 2017   \n",
       "5053      5000  Paid  399.99       Everyone  Entertainment       May 30, 2017   \n",
       "5055      1000  Paid  399.99           Teen        Finance   December 6, 2017   \n",
       "5057     10000  Paid  389.99       Everyone  Entertainment      June 22, 2018   \n",
       "5060      5000  Paid  399.99       Everyone        Finance     March 22, 2018   \n",
       "5064      1000  Paid  399.99       Everyone        Finance      June 25, 2018   \n",
       "\n",
       "     Current Ver   Android Ver  \n",
       "4036           1    7.0 and up  \n",
       "4189       1.0.0    4.4 and up  \n",
       "4194       1.0.1    4.1 and up  \n",
       "5042           2  4.0.3 and up  \n",
       "5045           3    4.4 and up  \n",
       "5046       1.1.1    4.3 and up  \n",
       "5047         1.6    4.0 and up  \n",
       "5048           1    4.0 and up  \n",
       "5049           1    4.1 and up  \n",
       "5050         3.4    4.4 and up  \n",
       "5053        1.54    1.6 and up  \n",
       "5055           2  4.0.3 and up  \n",
       "5057         1.5    4.2 and up  \n",
       "5060           1    4.2 and up  \n",
       "5064       1.0.2    4.1 and up  "
      ]
     },
     "execution_count": 25,
     "metadata": {},
     "output_type": "execute_result"
    }
   ],
   "source": [
    "df.loc[df['Price'] >=200]"
   ]
  },
  {
   "cell_type": "code",
   "execution_count": 26,
   "metadata": {},
   "outputs": [],
   "source": [
    "df.drop(df.loc[df['Price'] >=200].index, axis = 0, inplace=True)"
   ]
  },
  {
   "cell_type": "markdown",
   "metadata": {},
   "source": [
    "##### 2. Reviews: Very few apps have very high number of reviews. These are all star apps that don’t help with the analysis and, in fact, will skew it. Drop records having more than 2 million reviews."
   ]
  },
  {
   "cell_type": "code",
   "execution_count": 27,
   "metadata": {},
   "outputs": [
    {
     "data": {
      "text/html": [
       "<div>\n",
       "<style scoped>\n",
       "    .dataframe tbody tr th:only-of-type {\n",
       "        vertical-align: middle;\n",
       "    }\n",
       "\n",
       "    .dataframe tbody tr th {\n",
       "        vertical-align: top;\n",
       "    }\n",
       "\n",
       "    .dataframe thead th {\n",
       "        text-align: right;\n",
       "    }\n",
       "</style>\n",
       "<table border=\"1\" class=\"dataframe\">\n",
       "  <thead>\n",
       "    <tr style=\"text-align: right;\">\n",
       "      <th></th>\n",
       "      <th>App</th>\n",
       "      <th>Category</th>\n",
       "      <th>Rating</th>\n",
       "      <th>Reviews</th>\n",
       "      <th>Size</th>\n",
       "      <th>Installs</th>\n",
       "      <th>Type</th>\n",
       "      <th>Price</th>\n",
       "      <th>Content Rating</th>\n",
       "      <th>Genres</th>\n",
       "      <th>Last Updated</th>\n",
       "      <th>Current Ver</th>\n",
       "      <th>Android Ver</th>\n",
       "    </tr>\n",
       "  </thead>\n",
       "  <tbody>\n",
       "    <tr>\n",
       "      <th>332</th>\n",
       "      <td>Yahoo Mail – Stay Organized</td>\n",
       "      <td>COMMUNICATION</td>\n",
       "      <td>4.3</td>\n",
       "      <td>4187998</td>\n",
       "      <td>16000.0</td>\n",
       "      <td>100000000</td>\n",
       "      <td>Free</td>\n",
       "      <td>0.0</td>\n",
       "      <td>Everyone</td>\n",
       "      <td>Communication</td>\n",
       "      <td>July 18, 2018</td>\n",
       "      <td>5.29.3</td>\n",
       "      <td>4.4 and up</td>\n",
       "    </tr>\n",
       "    <tr>\n",
       "      <th>334</th>\n",
       "      <td>imo free video calls and chat</td>\n",
       "      <td>COMMUNICATION</td>\n",
       "      <td>4.3</td>\n",
       "      <td>4785892</td>\n",
       "      <td>11000.0</td>\n",
       "      <td>500000000</td>\n",
       "      <td>Free</td>\n",
       "      <td>0.0</td>\n",
       "      <td>Everyone</td>\n",
       "      <td>Communication</td>\n",
       "      <td>June 8, 2018</td>\n",
       "      <td>9.8.000000010501</td>\n",
       "      <td>4.0 and up</td>\n",
       "    </tr>\n",
       "    <tr>\n",
       "      <th>353</th>\n",
       "      <td>UC Browser Mini -Tiny Fast Private &amp; Secure</td>\n",
       "      <td>COMMUNICATION</td>\n",
       "      <td>4.4</td>\n",
       "      <td>3648120</td>\n",
       "      <td>3300.0</td>\n",
       "      <td>100000000</td>\n",
       "      <td>Free</td>\n",
       "      <td>0.0</td>\n",
       "      <td>Teen</td>\n",
       "      <td>Communication</td>\n",
       "      <td>July 18, 2018</td>\n",
       "      <td>11.4.0</td>\n",
       "      <td>4.0 and up</td>\n",
       "    </tr>\n",
       "    <tr>\n",
       "      <th>365</th>\n",
       "      <td>UC Browser - Fast Download Private &amp; Secure</td>\n",
       "      <td>COMMUNICATION</td>\n",
       "      <td>4.5</td>\n",
       "      <td>17712922</td>\n",
       "      <td>40000.0</td>\n",
       "      <td>500000000</td>\n",
       "      <td>Free</td>\n",
       "      <td>0.0</td>\n",
       "      <td>Teen</td>\n",
       "      <td>Communication</td>\n",
       "      <td>August 2, 2018</td>\n",
       "      <td>12.8.5.1121</td>\n",
       "      <td>4.0 and up</td>\n",
       "    </tr>\n",
       "    <tr>\n",
       "      <th>370</th>\n",
       "      <td>imo free video calls and chat</td>\n",
       "      <td>COMMUNICATION</td>\n",
       "      <td>4.3</td>\n",
       "      <td>4785988</td>\n",
       "      <td>11000.0</td>\n",
       "      <td>500000000</td>\n",
       "      <td>Free</td>\n",
       "      <td>0.0</td>\n",
       "      <td>Everyone</td>\n",
       "      <td>Communication</td>\n",
       "      <td>June 8, 2018</td>\n",
       "      <td>9.8.000000010501</td>\n",
       "      <td>4.0 and up</td>\n",
       "    </tr>\n",
       "    <tr>\n",
       "      <th>...</th>\n",
       "      <td>...</td>\n",
       "      <td>...</td>\n",
       "      <td>...</td>\n",
       "      <td>...</td>\n",
       "      <td>...</td>\n",
       "      <td>...</td>\n",
       "      <td>...</td>\n",
       "      <td>...</td>\n",
       "      <td>...</td>\n",
       "      <td>...</td>\n",
       "      <td>...</td>\n",
       "      <td>...</td>\n",
       "      <td>...</td>\n",
       "    </tr>\n",
       "    <tr>\n",
       "      <th>8053</th>\n",
       "      <td>Need for Speed™ No Limits</td>\n",
       "      <td>GAME</td>\n",
       "      <td>4.4</td>\n",
       "      <td>3344300</td>\n",
       "      <td>22000.0</td>\n",
       "      <td>50000000</td>\n",
       "      <td>Free</td>\n",
       "      <td>0.0</td>\n",
       "      <td>Everyone 10+</td>\n",
       "      <td>Racing</td>\n",
       "      <td>July 24, 2018</td>\n",
       "      <td>2.12.1</td>\n",
       "      <td>4.1 and up</td>\n",
       "    </tr>\n",
       "    <tr>\n",
       "      <th>8076</th>\n",
       "      <td>Modern Combat 5: eSports FPS</td>\n",
       "      <td>GAME</td>\n",
       "      <td>4.3</td>\n",
       "      <td>2903386</td>\n",
       "      <td>58000.0</td>\n",
       "      <td>100000000</td>\n",
       "      <td>Free</td>\n",
       "      <td>0.0</td>\n",
       "      <td>Mature 17+</td>\n",
       "      <td>Action</td>\n",
       "      <td>July 24, 2018</td>\n",
       "      <td>3.2.1c</td>\n",
       "      <td>4.0 and up</td>\n",
       "    </tr>\n",
       "    <tr>\n",
       "      <th>8883</th>\n",
       "      <td>Farm Heroes Saga</td>\n",
       "      <td>FAMILY</td>\n",
       "      <td>4.4</td>\n",
       "      <td>7615646</td>\n",
       "      <td>71000.0</td>\n",
       "      <td>100000000</td>\n",
       "      <td>Free</td>\n",
       "      <td>0.0</td>\n",
       "      <td>Everyone</td>\n",
       "      <td>Casual</td>\n",
       "      <td>August 7, 2018</td>\n",
       "      <td>5.2.6</td>\n",
       "      <td>2.3 and up</td>\n",
       "    </tr>\n",
       "    <tr>\n",
       "      <th>8886</th>\n",
       "      <td>Fallout Shelter</td>\n",
       "      <td>FAMILY</td>\n",
       "      <td>4.6</td>\n",
       "      <td>2721923</td>\n",
       "      <td>25000.0</td>\n",
       "      <td>10000000</td>\n",
       "      <td>Free</td>\n",
       "      <td>0.0</td>\n",
       "      <td>Teen</td>\n",
       "      <td>Simulation</td>\n",
       "      <td>June 11, 2018</td>\n",
       "      <td>1.13.12</td>\n",
       "      <td>4.1 and up</td>\n",
       "    </tr>\n",
       "    <tr>\n",
       "      <th>9015</th>\n",
       "      <td>Garena Free Fire</td>\n",
       "      <td>GAME</td>\n",
       "      <td>4.5</td>\n",
       "      <td>5534114</td>\n",
       "      <td>53000.0</td>\n",
       "      <td>100000000</td>\n",
       "      <td>Free</td>\n",
       "      <td>0.0</td>\n",
       "      <td>Teen</td>\n",
       "      <td>Action</td>\n",
       "      <td>August 3, 2018</td>\n",
       "      <td>1.21.0</td>\n",
       "      <td>4.0.3 and up</td>\n",
       "    </tr>\n",
       "  </tbody>\n",
       "</table>\n",
       "<p>219 rows × 13 columns</p>\n",
       "</div>"
      ],
      "text/plain": [
       "                                              App       Category  Rating  \\\n",
       "332                   Yahoo Mail – Stay Organized  COMMUNICATION     4.3   \n",
       "334                 imo free video calls and chat  COMMUNICATION     4.3   \n",
       "353   UC Browser Mini -Tiny Fast Private & Secure  COMMUNICATION     4.4   \n",
       "365   UC Browser - Fast Download Private & Secure  COMMUNICATION     4.5   \n",
       "370                 imo free video calls and chat  COMMUNICATION     4.3   \n",
       "...                                           ...            ...     ...   \n",
       "8053                    Need for Speed™ No Limits           GAME     4.4   \n",
       "8076                 Modern Combat 5: eSports FPS           GAME     4.3   \n",
       "8883                             Farm Heroes Saga         FAMILY     4.4   \n",
       "8886                              Fallout Shelter         FAMILY     4.6   \n",
       "9015                             Garena Free Fire           GAME     4.5   \n",
       "\n",
       "       Reviews     Size   Installs  Type  Price Content Rating         Genres  \\\n",
       "332    4187998  16000.0  100000000  Free    0.0       Everyone  Communication   \n",
       "334    4785892  11000.0  500000000  Free    0.0       Everyone  Communication   \n",
       "353    3648120   3300.0  100000000  Free    0.0           Teen  Communication   \n",
       "365   17712922  40000.0  500000000  Free    0.0           Teen  Communication   \n",
       "370    4785988  11000.0  500000000  Free    0.0       Everyone  Communication   \n",
       "...        ...      ...        ...   ...    ...            ...            ...   \n",
       "8053   3344300  22000.0   50000000  Free    0.0   Everyone 10+         Racing   \n",
       "8076   2903386  58000.0  100000000  Free    0.0     Mature 17+         Action   \n",
       "8883   7615646  71000.0  100000000  Free    0.0       Everyone         Casual   \n",
       "8886   2721923  25000.0   10000000  Free    0.0           Teen     Simulation   \n",
       "9015   5534114  53000.0  100000000  Free    0.0           Teen         Action   \n",
       "\n",
       "        Last Updated       Current Ver   Android Ver  \n",
       "332    July 18, 2018            5.29.3    4.4 and up  \n",
       "334     June 8, 2018  9.8.000000010501    4.0 and up  \n",
       "353    July 18, 2018            11.4.0    4.0 and up  \n",
       "365   August 2, 2018       12.8.5.1121    4.0 and up  \n",
       "370     June 8, 2018  9.8.000000010501    4.0 and up  \n",
       "...              ...               ...           ...  \n",
       "8053   July 24, 2018            2.12.1    4.1 and up  \n",
       "8076   July 24, 2018            3.2.1c    4.0 and up  \n",
       "8883  August 7, 2018             5.2.6    2.3 and up  \n",
       "8886   June 11, 2018           1.13.12    4.1 and up  \n",
       "9015  August 3, 2018            1.21.0  4.0.3 and up  \n",
       "\n",
       "[219 rows x 13 columns]"
      ]
     },
     "execution_count": 27,
     "metadata": {},
     "output_type": "execute_result"
    }
   ],
   "source": [
    "df.loc[df['Reviews'] >=2000000]"
   ]
  },
  {
   "cell_type": "code",
   "execution_count": 28,
   "metadata": {},
   "outputs": [],
   "source": [
    "df.drop(df.loc[df['Reviews'] >=2000000].index, axis = 0, inplace=True)"
   ]
  },
  {
   "cell_type": "markdown",
   "metadata": {},
   "source": [
    "##### 3. Installs:  There seems to be some outliers in this field too. Apps having very high number of installs should be dropped from the analysis."
   ]
  },
  {
   "cell_type": "markdown",
   "metadata": {},
   "source": [
    "1. Find out the different percentiles – 10, 25, 50, 70, 90, 95, 99"
   ]
  },
  {
   "cell_type": "code",
   "execution_count": 29,
   "metadata": {},
   "outputs": [
    {
     "data": {
      "text/html": [
       "<div>\n",
       "<style scoped>\n",
       "    .dataframe tbody tr th:only-of-type {\n",
       "        vertical-align: middle;\n",
       "    }\n",
       "\n",
       "    .dataframe tbody tr th {\n",
       "        vertical-align: top;\n",
       "    }\n",
       "\n",
       "    .dataframe thead th {\n",
       "        text-align: right;\n",
       "    }\n",
       "</style>\n",
       "<table border=\"1\" class=\"dataframe\">\n",
       "  <thead>\n",
       "    <tr style=\"text-align: right;\">\n",
       "      <th></th>\n",
       "      <th>Installs</th>\n",
       "    </tr>\n",
       "  </thead>\n",
       "  <tbody>\n",
       "    <tr>\n",
       "      <th>0.10</th>\n",
       "      <td>1000.0</td>\n",
       "    </tr>\n",
       "    <tr>\n",
       "      <th>0.25</th>\n",
       "      <td>10000.0</td>\n",
       "    </tr>\n",
       "    <tr>\n",
       "      <th>0.50</th>\n",
       "      <td>100000.0</td>\n",
       "    </tr>\n",
       "    <tr>\n",
       "      <th>0.70</th>\n",
       "      <td>1000000.0</td>\n",
       "    </tr>\n",
       "    <tr>\n",
       "      <th>0.90</th>\n",
       "      <td>10000000.0</td>\n",
       "    </tr>\n",
       "    <tr>\n",
       "      <th>0.95</th>\n",
       "      <td>10000000.0</td>\n",
       "    </tr>\n",
       "    <tr>\n",
       "      <th>0.99</th>\n",
       "      <td>50000000.0</td>\n",
       "    </tr>\n",
       "  </tbody>\n",
       "</table>\n",
       "</div>"
      ],
      "text/plain": [
       "        Installs\n",
       "0.10      1000.0\n",
       "0.25     10000.0\n",
       "0.50    100000.0\n",
       "0.70   1000000.0\n",
       "0.90  10000000.0\n",
       "0.95  10000000.0\n",
       "0.99  50000000.0"
      ]
     },
     "execution_count": 29,
     "metadata": {},
     "output_type": "execute_result"
    }
   ],
   "source": [
    "df[['Installs']].quantile([0.1, 0.25, 0.5, 0.7, 0.9, 0.95, 0.99])"
   ]
  },
  {
   "cell_type": "markdown",
   "metadata": {},
   "source": [
    "Table above shows the distribution in terms of the mentioned quantiles for the column **Installs**"
   ]
  },
  {
   "cell_type": "markdown",
   "metadata": {},
   "source": [
    "2. Decide a threshold as cutoff for outlier and drop records having values more than that"
   ]
  },
  {
   "cell_type": "code",
   "execution_count": 30,
   "metadata": {},
   "outputs": [
    {
     "data": {
      "text/plain": [
       "60"
      ]
     },
     "execution_count": 30,
     "metadata": {},
     "output_type": "execute_result"
    }
   ],
   "source": [
    "len(df[df['Installs'] > 50000000.0])"
   ]
  },
  {
   "cell_type": "markdown",
   "metadata": {},
   "source": [
    "There seem to be only very few rows with **Installs** > 50000000. We will get rid of these rows as they are most probably outliers in our data"
   ]
  },
  {
   "cell_type": "code",
   "execution_count": 31,
   "metadata": {},
   "outputs": [],
   "source": [
    "df = df[df['Installs'] < 50000000.0]"
   ]
  },
  {
   "cell_type": "code",
   "execution_count": 32,
   "metadata": {},
   "outputs": [
    {
     "name": "stdout",
     "output_type": "stream",
     "text": [
      "<class 'pandas.core.frame.DataFrame'>\n",
      "Int64Index: 7307 entries, 0 to 9359\n",
      "Data columns (total 13 columns):\n",
      " #   Column          Non-Null Count  Dtype  \n",
      "---  ------          --------------  -----  \n",
      " 0   App             7307 non-null   object \n",
      " 1   Category        7307 non-null   object \n",
      " 2   Rating          7307 non-null   float64\n",
      " 3   Reviews         7307 non-null   int64  \n",
      " 4   Size            7307 non-null   float64\n",
      " 5   Installs        7307 non-null   int64  \n",
      " 6   Type            7307 non-null   object \n",
      " 7   Price           7307 non-null   float64\n",
      " 8   Content Rating  7307 non-null   object \n",
      " 9   Genres          7307 non-null   object \n",
      " 10  Last Updated    7307 non-null   object \n",
      " 11  Current Ver     7307 non-null   object \n",
      " 12  Android Ver     7307 non-null   object \n",
      "dtypes: float64(3), int64(2), object(8)\n",
      "memory usage: 799.2+ KB\n"
     ]
    }
   ],
   "source": [
    "df.info()"
   ]
  },
  {
   "cell_type": "markdown",
   "metadata": {},
   "source": [
    "#### 8. Bivariate analysis:"
   ]
  },
  {
   "cell_type": "code",
   "execution_count": 33,
   "metadata": {
    "scrolled": false
   },
   "outputs": [
    {
     "data": {
      "image/png": "[encoded data removed]",
      "text/plain": [
       "<Figure size 1440x2520 with 5 Axes>"
      ]
     },
     "metadata": {
      "needs_background": "light"
     },
     "output_type": "display_data"
    }
   ],
   "source": [
    "fig, axes = plt.subplots(5, 1, figsize = (20, 35))\n",
    "axes[0].set_title('Scatter Plot for Rating vs Price', fontsize = 14, fontweight = 'semibold')\n",
    "axes[0].set_xlabel('Price', fontsize = 12, fontweight = 'semibold')\n",
    "axes[0].set_ylabel('Rating', fontsize = 12, fontweight = 'semibold')\n",
    "sns.scatterplot(x = 'Price', y = 'Rating', data = df, ax = axes[0])\n",
    "axes[1].set_title('Scatter Plot for Rating vs Size', fontsize = 14, fontweight = 'semibold')\n",
    "axes[1].set_xlabel('Size', fontsize = 12, fontweight = 'semibold')\n",
    "axes[1].set_ylabel('Rating', fontsize = 12, fontweight = 'semibold')\n",
    "sns.scatterplot(x = 'Size', y = 'Rating', data = df, ax = axes[1])\n",
    "axes[2].set_title('Scatter Plot for Rating vs Reviews', fontsize = 14, fontweight = 'semibold')\n",
    "axes[2].set_xlabel('Reviews', fontsize = 12, fontweight = 'semibold')\n",
    "axes[2].set_ylabel('Rating', fontsize = 12, fontweight = 'semibold')\n",
    "sns.scatterplot(x = 'Reviews', y = 'Rating', data = df, ax = axes[2])\n",
    "axes[3].set_title('Box Plot for Rating vs Content Rating', fontsize = 14, fontweight = 'semibold')\n",
    "axes[3].set_xlabel('Content Rating', fontsize = 12, fontweight = 'semibold')\n",
    "axes[3].set_ylabel('Rating', fontsize = 12, fontweight = 'semibold')\n",
    "sns.boxplot(x = 'Content Rating', y = 'Rating', data = df, ax = axes[3])\n",
    "axes[4].set_title('Box Plot for Rating vs Category', fontsize = 14, fontweight = 'semibold')\n",
    "axes[4].set_xlabel('Category', fontsize = 12, fontweight = 'semibold')\n",
    "axes[4].set_ylabel('Rating', fontsize = 12, fontweight = 'semibold')\n",
    "plt.xticks(rotation = 90)\n",
    "sns.boxplot(x = 'Category', y = 'Rating', data = df, ax = axes[4]);"
   ]
  },
  {
   "cell_type": "markdown",
   "metadata": {},
   "source": [
    "##### 1. What pattern do you observe? Does rating increase with price?"
   ]
  },
  {
   "cell_type": "markdown",
   "metadata": {},
   "source": [
    "No. Rating does not increase with price. On the contrary, the free and relatively cheap apps are seen to have better ratings and are also installed more than pricier apps."
   ]
  },
  {
   "cell_type": "markdown",
   "metadata": {},
   "source": [
    "##### 2. Are heavier apps rated better?"
   ]
  },
  {
   "cell_type": "markdown",
   "metadata": {},
   "source": [
    "There are a few apps which are heavy and are highly rated. But in general there is no such trend that heavier apps are rated better."
   ]
  },
  {
   "cell_type": "markdown",
   "metadata": {},
   "source": [
    "##### 3. Does more review mean a better rating always?"
   ]
  },
  {
   "cell_type": "markdown",
   "metadata": {},
   "source": [
    "Not always. There are apps that haven't been reviewed by are rated quite well."
   ]
  },
  {
   "cell_type": "markdown",
   "metadata": {},
   "source": [
    "##### 4. Is there any difference in the ratings? Are some types liked better?"
   ]
  },
  {
   "cell_type": "markdown",
   "metadata": {},
   "source": [
    "From the box plot, we can infer that apps with Content Rating **Everyone 10+** & **Adults only 18+** have better rating generally."
   ]
  },
  {
   "cell_type": "markdown",
   "metadata": {},
   "source": [
    "##### 5. Which genre has the best ratings?"
   ]
  },
  {
   "cell_type": "markdown",
   "metadata": {},
   "source": [
    "Categories which have good ratings:\n",
    "    1. BEAUTY\n",
    "    2. COMICS\n",
    "    3. EDUCATION\n",
    "    4. EVENTS\n",
    "    5. LIBRARIES_AND_DEMO\n",
    "    6. WEATHER"
   ]
  },
  {
   "cell_type": "markdown",
   "metadata": {},
   "source": [
    "#### 9. Data Preprocessing"
   ]
  },
  {
   "cell_type": "markdown",
   "metadata": {},
   "source": [
    "For the steps below, create a copy of the dataframe to make all the edits. Name it inp1."
   ]
  },
  {
   "cell_type": "code",
   "execution_count": 34,
   "metadata": {},
   "outputs": [],
   "source": [
    "inp1 = df"
   ]
  },
  {
   "cell_type": "markdown",
   "metadata": {},
   "source": [
    "##### 1. Reviews and Install have some values that are still relatively very high. Before building a linear regression model, you need to reduce the skew. Apply log transformation (np.log1p) to Reviews and Installs."
   ]
  },
  {
   "cell_type": "code",
   "execution_count": 35,
   "metadata": {},
   "outputs": [],
   "source": [
    "inp1['Reviews'] = np.log1p(inp1['Reviews'])"
   ]
  },
  {
   "cell_type": "code",
   "execution_count": 36,
   "metadata": {},
   "outputs": [],
   "source": [
    "inp1['Installs'] = np.log1p(inp1['Installs'])"
   ]
  },
  {
   "cell_type": "markdown",
   "metadata": {},
   "source": [
    "##### 2. Drop columns App, Last Updated, Current Ver, and Android Ver. These variables are not useful for our task."
   ]
  },
  {
   "cell_type": "code",
   "execution_count": 37,
   "metadata": {},
   "outputs": [],
   "source": [
    "inp1.drop(['App', 'Last Updated', 'Current Ver', 'Android Ver'], axis = 1, inplace=True)"
   ]
  },
  {
   "cell_type": "code",
   "execution_count": 38,
   "metadata": {},
   "outputs": [
    {
     "data": {
      "text/html": [
       "<div>\n",
       "<style scoped>\n",
       "    .dataframe tbody tr th:only-of-type {\n",
       "        vertical-align: middle;\n",
       "    }\n",
       "\n",
       "    .dataframe tbody tr th {\n",
       "        vertical-align: top;\n",
       "    }\n",
       "\n",
       "    .dataframe thead th {\n",
       "        text-align: right;\n",
       "    }\n",
       "</style>\n",
       "<table border=\"1\" class=\"dataframe\">\n",
       "  <thead>\n",
       "    <tr style=\"text-align: right;\">\n",
       "      <th></th>\n",
       "      <th>Category</th>\n",
       "      <th>Rating</th>\n",
       "      <th>Reviews</th>\n",
       "      <th>Size</th>\n",
       "      <th>Installs</th>\n",
       "      <th>Type</th>\n",
       "      <th>Price</th>\n",
       "      <th>Content Rating</th>\n",
       "      <th>Genres</th>\n",
       "    </tr>\n",
       "  </thead>\n",
       "  <tbody>\n",
       "    <tr>\n",
       "      <th>0</th>\n",
       "      <td>ART_AND_DESIGN</td>\n",
       "      <td>4.1</td>\n",
       "      <td>5.075174</td>\n",
       "      <td>19000.0</td>\n",
       "      <td>9.210440</td>\n",
       "      <td>Free</td>\n",
       "      <td>0.0</td>\n",
       "      <td>Everyone</td>\n",
       "      <td>Art &amp; Design</td>\n",
       "    </tr>\n",
       "    <tr>\n",
       "      <th>1</th>\n",
       "      <td>ART_AND_DESIGN</td>\n",
       "      <td>3.9</td>\n",
       "      <td>6.875232</td>\n",
       "      <td>14000.0</td>\n",
       "      <td>13.122365</td>\n",
       "      <td>Free</td>\n",
       "      <td>0.0</td>\n",
       "      <td>Everyone</td>\n",
       "      <td>Art &amp; Design;Pretend Play</td>\n",
       "    </tr>\n",
       "    <tr>\n",
       "      <th>2</th>\n",
       "      <td>ART_AND_DESIGN</td>\n",
       "      <td>4.7</td>\n",
       "      <td>11.379520</td>\n",
       "      <td>8700.0</td>\n",
       "      <td>15.424949</td>\n",
       "      <td>Free</td>\n",
       "      <td>0.0</td>\n",
       "      <td>Everyone</td>\n",
       "      <td>Art &amp; Design</td>\n",
       "    </tr>\n",
       "    <tr>\n",
       "      <th>4</th>\n",
       "      <td>ART_AND_DESIGN</td>\n",
       "      <td>4.3</td>\n",
       "      <td>6.875232</td>\n",
       "      <td>2800.0</td>\n",
       "      <td>11.512935</td>\n",
       "      <td>Free</td>\n",
       "      <td>0.0</td>\n",
       "      <td>Everyone</td>\n",
       "      <td>Art &amp; Design;Creativity</td>\n",
       "    </tr>\n",
       "    <tr>\n",
       "      <th>5</th>\n",
       "      <td>ART_AND_DESIGN</td>\n",
       "      <td>4.4</td>\n",
       "      <td>5.123964</td>\n",
       "      <td>5600.0</td>\n",
       "      <td>10.819798</td>\n",
       "      <td>Free</td>\n",
       "      <td>0.0</td>\n",
       "      <td>Everyone</td>\n",
       "      <td>Art &amp; Design</td>\n",
       "    </tr>\n",
       "  </tbody>\n",
       "</table>\n",
       "</div>"
      ],
      "text/plain": [
       "         Category  Rating    Reviews     Size   Installs  Type  Price  \\\n",
       "0  ART_AND_DESIGN     4.1   5.075174  19000.0   9.210440  Free    0.0   \n",
       "1  ART_AND_DESIGN     3.9   6.875232  14000.0  13.122365  Free    0.0   \n",
       "2  ART_AND_DESIGN     4.7  11.379520   8700.0  15.424949  Free    0.0   \n",
       "4  ART_AND_DESIGN     4.3   6.875232   2800.0  11.512935  Free    0.0   \n",
       "5  ART_AND_DESIGN     4.4   5.123964   5600.0  10.819798  Free    0.0   \n",
       "\n",
       "  Content Rating                     Genres  \n",
       "0       Everyone               Art & Design  \n",
       "1       Everyone  Art & Design;Pretend Play  \n",
       "2       Everyone               Art & Design  \n",
       "4       Everyone    Art & Design;Creativity  \n",
       "5       Everyone               Art & Design  "
      ]
     },
     "execution_count": 38,
     "metadata": {},
     "output_type": "execute_result"
    }
   ],
   "source": [
    "inp1.head()"
   ]
  },
  {
   "cell_type": "markdown",
   "metadata": {},
   "source": [
    "##### 3. Get dummy columns for Category, Genres, and Content Rating. This needs to be done as the models do not understand categorical data, and all data should be numeric. Dummy encoding is one way to convert character fields to numeric. Name of dataframe should be inp2."
   ]
  },
  {
   "cell_type": "code",
   "execution_count": 39,
   "metadata": {},
   "outputs": [],
   "source": [
    "category = pd.get_dummies(inp1['Category'])"
   ]
  },
  {
   "cell_type": "code",
   "execution_count": 40,
   "metadata": {},
   "outputs": [
    {
     "data": {
      "text/html": [
       "<div>\n",
       "<style scoped>\n",
       "    .dataframe tbody tr th:only-of-type {\n",
       "        vertical-align: middle;\n",
       "    }\n",
       "\n",
       "    .dataframe tbody tr th {\n",
       "        vertical-align: top;\n",
       "    }\n",
       "\n",
       "    .dataframe thead th {\n",
       "        text-align: right;\n",
       "    }\n",
       "</style>\n",
       "<table border=\"1\" class=\"dataframe\">\n",
       "  <thead>\n",
       "    <tr style=\"text-align: right;\">\n",
       "      <th></th>\n",
       "      <th>ART_AND_DESIGN</th>\n",
       "      <th>AUTO_AND_VEHICLES</th>\n",
       "      <th>BEAUTY</th>\n",
       "      <th>BOOKS_AND_REFERENCE</th>\n",
       "      <th>BUSINESS</th>\n",
       "      <th>COMICS</th>\n",
       "      <th>COMMUNICATION</th>\n",
       "      <th>DATING</th>\n",
       "      <th>EDUCATION</th>\n",
       "      <th>ENTERTAINMENT</th>\n",
       "      <th>...</th>\n",
       "      <th>PERSONALIZATION</th>\n",
       "      <th>PHOTOGRAPHY</th>\n",
       "      <th>PRODUCTIVITY</th>\n",
       "      <th>SHOPPING</th>\n",
       "      <th>SOCIAL</th>\n",
       "      <th>SPORTS</th>\n",
       "      <th>TOOLS</th>\n",
       "      <th>TRAVEL_AND_LOCAL</th>\n",
       "      <th>VIDEO_PLAYERS</th>\n",
       "      <th>WEATHER</th>\n",
       "    </tr>\n",
       "  </thead>\n",
       "  <tbody>\n",
       "    <tr>\n",
       "      <th>0</th>\n",
       "      <td>1</td>\n",
       "      <td>0</td>\n",
       "      <td>0</td>\n",
       "      <td>0</td>\n",
       "      <td>0</td>\n",
       "      <td>0</td>\n",
       "      <td>0</td>\n",
       "      <td>0</td>\n",
       "      <td>0</td>\n",
       "      <td>0</td>\n",
       "      <td>...</td>\n",
       "      <td>0</td>\n",
       "      <td>0</td>\n",
       "      <td>0</td>\n",
       "      <td>0</td>\n",
       "      <td>0</td>\n",
       "      <td>0</td>\n",
       "      <td>0</td>\n",
       "      <td>0</td>\n",
       "      <td>0</td>\n",
       "      <td>0</td>\n",
       "    </tr>\n",
       "    <tr>\n",
       "      <th>1</th>\n",
       "      <td>1</td>\n",
       "      <td>0</td>\n",
       "      <td>0</td>\n",
       "      <td>0</td>\n",
       "      <td>0</td>\n",
       "      <td>0</td>\n",
       "      <td>0</td>\n",
       "      <td>0</td>\n",
       "      <td>0</td>\n",
       "      <td>0</td>\n",
       "      <td>...</td>\n",
       "      <td>0</td>\n",
       "      <td>0</td>\n",
       "      <td>0</td>\n",
       "      <td>0</td>\n",
       "      <td>0</td>\n",
       "      <td>0</td>\n",
       "      <td>0</td>\n",
       "      <td>0</td>\n",
       "      <td>0</td>\n",
       "      <td>0</td>\n",
       "    </tr>\n",
       "    <tr>\n",
       "      <th>2</th>\n",
       "      <td>1</td>\n",
       "      <td>0</td>\n",
       "      <td>0</td>\n",
       "      <td>0</td>\n",
       "      <td>0</td>\n",
       "      <td>0</td>\n",
       "      <td>0</td>\n",
       "      <td>0</td>\n",
       "      <td>0</td>\n",
       "      <td>0</td>\n",
       "      <td>...</td>\n",
       "      <td>0</td>\n",
       "      <td>0</td>\n",
       "      <td>0</td>\n",
       "      <td>0</td>\n",
       "      <td>0</td>\n",
       "      <td>0</td>\n",
       "      <td>0</td>\n",
       "      <td>0</td>\n",
       "      <td>0</td>\n",
       "      <td>0</td>\n",
       "    </tr>\n",
       "    <tr>\n",
       "      <th>4</th>\n",
       "      <td>1</td>\n",
       "      <td>0</td>\n",
       "      <td>0</td>\n",
       "      <td>0</td>\n",
       "      <td>0</td>\n",
       "      <td>0</td>\n",
       "      <td>0</td>\n",
       "      <td>0</td>\n",
       "      <td>0</td>\n",
       "      <td>0</td>\n",
       "      <td>...</td>\n",
       "      <td>0</td>\n",
       "      <td>0</td>\n",
       "      <td>0</td>\n",
       "      <td>0</td>\n",
       "      <td>0</td>\n",
       "      <td>0</td>\n",
       "      <td>0</td>\n",
       "      <td>0</td>\n",
       "      <td>0</td>\n",
       "      <td>0</td>\n",
       "    </tr>\n",
       "    <tr>\n",
       "      <th>5</th>\n",
       "      <td>1</td>\n",
       "      <td>0</td>\n",
       "      <td>0</td>\n",
       "      <td>0</td>\n",
       "      <td>0</td>\n",
       "      <td>0</td>\n",
       "      <td>0</td>\n",
       "      <td>0</td>\n",
       "      <td>0</td>\n",
       "      <td>0</td>\n",
       "      <td>...</td>\n",
       "      <td>0</td>\n",
       "      <td>0</td>\n",
       "      <td>0</td>\n",
       "      <td>0</td>\n",
       "      <td>0</td>\n",
       "      <td>0</td>\n",
       "      <td>0</td>\n",
       "      <td>0</td>\n",
       "      <td>0</td>\n",
       "      <td>0</td>\n",
       "    </tr>\n",
       "  </tbody>\n",
       "</table>\n",
       "<p>5 rows × 33 columns</p>\n",
       "</div>"
      ],
      "text/plain": [
       "   ART_AND_DESIGN  AUTO_AND_VEHICLES  BEAUTY  BOOKS_AND_REFERENCE  BUSINESS  \\\n",
       "0               1                  0       0                    0         0   \n",
       "1               1                  0       0                    0         0   \n",
       "2               1                  0       0                    0         0   \n",
       "4               1                  0       0                    0         0   \n",
       "5               1                  0       0                    0         0   \n",
       "\n",
       "   COMICS  COMMUNICATION  DATING  EDUCATION  ENTERTAINMENT  ...  \\\n",
       "0       0              0       0          0              0  ...   \n",
       "1       0              0       0          0              0  ...   \n",
       "2       0              0       0          0              0  ...   \n",
       "4       0              0       0          0              0  ...   \n",
       "5       0              0       0          0              0  ...   \n",
       "\n",
       "   PERSONALIZATION  PHOTOGRAPHY  PRODUCTIVITY  SHOPPING  SOCIAL  SPORTS  \\\n",
       "0                0            0             0         0       0       0   \n",
       "1                0            0             0         0       0       0   \n",
       "2                0            0             0         0       0       0   \n",
       "4                0            0             0         0       0       0   \n",
       "5                0            0             0         0       0       0   \n",
       "\n",
       "   TOOLS  TRAVEL_AND_LOCAL  VIDEO_PLAYERS  WEATHER  \n",
       "0      0                 0              0        0  \n",
       "1      0                 0              0        0  \n",
       "2      0                 0              0        0  \n",
       "4      0                 0              0        0  \n",
       "5      0                 0              0        0  \n",
       "\n",
       "[5 rows x 33 columns]"
      ]
     },
     "execution_count": 40,
     "metadata": {},
     "output_type": "execute_result"
    }
   ],
   "source": [
    "category.head()"
   ]
  },
  {
   "cell_type": "code",
   "execution_count": 41,
   "metadata": {},
   "outputs": [],
   "source": [
    "genres = inp1['Genres'].str.get_dummies(';')"
   ]
  },
  {
   "cell_type": "code",
   "execution_count": 42,
   "metadata": {},
   "outputs": [
    {
     "data": {
      "text/html": [
       "<div>\n",
       "<style scoped>\n",
       "    .dataframe tbody tr th:only-of-type {\n",
       "        vertical-align: middle;\n",
       "    }\n",
       "\n",
       "    .dataframe tbody tr th {\n",
       "        vertical-align: top;\n",
       "    }\n",
       "\n",
       "    .dataframe thead th {\n",
       "        text-align: right;\n",
       "    }\n",
       "</style>\n",
       "<table border=\"1\" class=\"dataframe\">\n",
       "  <thead>\n",
       "    <tr style=\"text-align: right;\">\n",
       "      <th></th>\n",
       "      <th>Action</th>\n",
       "      <th>Action &amp; Adventure</th>\n",
       "      <th>Adventure</th>\n",
       "      <th>Arcade</th>\n",
       "      <th>Art &amp; Design</th>\n",
       "      <th>Auto &amp; Vehicles</th>\n",
       "      <th>Beauty</th>\n",
       "      <th>Board</th>\n",
       "      <th>Books &amp; Reference</th>\n",
       "      <th>Brain Games</th>\n",
       "      <th>...</th>\n",
       "      <th>Simulation</th>\n",
       "      <th>Social</th>\n",
       "      <th>Sports</th>\n",
       "      <th>Strategy</th>\n",
       "      <th>Tools</th>\n",
       "      <th>Travel &amp; Local</th>\n",
       "      <th>Trivia</th>\n",
       "      <th>Video Players &amp; Editors</th>\n",
       "      <th>Weather</th>\n",
       "      <th>Word</th>\n",
       "    </tr>\n",
       "  </thead>\n",
       "  <tbody>\n",
       "    <tr>\n",
       "      <th>0</th>\n",
       "      <td>0</td>\n",
       "      <td>0</td>\n",
       "      <td>0</td>\n",
       "      <td>0</td>\n",
       "      <td>1</td>\n",
       "      <td>0</td>\n",
       "      <td>0</td>\n",
       "      <td>0</td>\n",
       "      <td>0</td>\n",
       "      <td>0</td>\n",
       "      <td>...</td>\n",
       "      <td>0</td>\n",
       "      <td>0</td>\n",
       "      <td>0</td>\n",
       "      <td>0</td>\n",
       "      <td>0</td>\n",
       "      <td>0</td>\n",
       "      <td>0</td>\n",
       "      <td>0</td>\n",
       "      <td>0</td>\n",
       "      <td>0</td>\n",
       "    </tr>\n",
       "    <tr>\n",
       "      <th>1</th>\n",
       "      <td>0</td>\n",
       "      <td>0</td>\n",
       "      <td>0</td>\n",
       "      <td>0</td>\n",
       "      <td>1</td>\n",
       "      <td>0</td>\n",
       "      <td>0</td>\n",
       "      <td>0</td>\n",
       "      <td>0</td>\n",
       "      <td>0</td>\n",
       "      <td>...</td>\n",
       "      <td>0</td>\n",
       "      <td>0</td>\n",
       "      <td>0</td>\n",
       "      <td>0</td>\n",
       "      <td>0</td>\n",
       "      <td>0</td>\n",
       "      <td>0</td>\n",
       "      <td>0</td>\n",
       "      <td>0</td>\n",
       "      <td>0</td>\n",
       "    </tr>\n",
       "    <tr>\n",
       "      <th>2</th>\n",
       "      <td>0</td>\n",
       "      <td>0</td>\n",
       "      <td>0</td>\n",
       "      <td>0</td>\n",
       "      <td>1</td>\n",
       "      <td>0</td>\n",
       "      <td>0</td>\n",
       "      <td>0</td>\n",
       "      <td>0</td>\n",
       "      <td>0</td>\n",
       "      <td>...</td>\n",
       "      <td>0</td>\n",
       "      <td>0</td>\n",
       "      <td>0</td>\n",
       "      <td>0</td>\n",
       "      <td>0</td>\n",
       "      <td>0</td>\n",
       "      <td>0</td>\n",
       "      <td>0</td>\n",
       "      <td>0</td>\n",
       "      <td>0</td>\n",
       "    </tr>\n",
       "    <tr>\n",
       "      <th>4</th>\n",
       "      <td>0</td>\n",
       "      <td>0</td>\n",
       "      <td>0</td>\n",
       "      <td>0</td>\n",
       "      <td>1</td>\n",
       "      <td>0</td>\n",
       "      <td>0</td>\n",
       "      <td>0</td>\n",
       "      <td>0</td>\n",
       "      <td>0</td>\n",
       "      <td>...</td>\n",
       "      <td>0</td>\n",
       "      <td>0</td>\n",
       "      <td>0</td>\n",
       "      <td>0</td>\n",
       "      <td>0</td>\n",
       "      <td>0</td>\n",
       "      <td>0</td>\n",
       "      <td>0</td>\n",
       "      <td>0</td>\n",
       "      <td>0</td>\n",
       "    </tr>\n",
       "    <tr>\n",
       "      <th>5</th>\n",
       "      <td>0</td>\n",
       "      <td>0</td>\n",
       "      <td>0</td>\n",
       "      <td>0</td>\n",
       "      <td>1</td>\n",
       "      <td>0</td>\n",
       "      <td>0</td>\n",
       "      <td>0</td>\n",
       "      <td>0</td>\n",
       "      <td>0</td>\n",
       "      <td>...</td>\n",
       "      <td>0</td>\n",
       "      <td>0</td>\n",
       "      <td>0</td>\n",
       "      <td>0</td>\n",
       "      <td>0</td>\n",
       "      <td>0</td>\n",
       "      <td>0</td>\n",
       "      <td>0</td>\n",
       "      <td>0</td>\n",
       "      <td>0</td>\n",
       "    </tr>\n",
       "    <tr>\n",
       "      <th>...</th>\n",
       "      <td>...</td>\n",
       "      <td>...</td>\n",
       "      <td>...</td>\n",
       "      <td>...</td>\n",
       "      <td>...</td>\n",
       "      <td>...</td>\n",
       "      <td>...</td>\n",
       "      <td>...</td>\n",
       "      <td>...</td>\n",
       "      <td>...</td>\n",
       "      <td>...</td>\n",
       "      <td>...</td>\n",
       "      <td>...</td>\n",
       "      <td>...</td>\n",
       "      <td>...</td>\n",
       "      <td>...</td>\n",
       "      <td>...</td>\n",
       "      <td>...</td>\n",
       "      <td>...</td>\n",
       "      <td>...</td>\n",
       "      <td>...</td>\n",
       "    </tr>\n",
       "    <tr>\n",
       "      <th>9354</th>\n",
       "      <td>0</td>\n",
       "      <td>0</td>\n",
       "      <td>0</td>\n",
       "      <td>0</td>\n",
       "      <td>0</td>\n",
       "      <td>0</td>\n",
       "      <td>0</td>\n",
       "      <td>0</td>\n",
       "      <td>1</td>\n",
       "      <td>0</td>\n",
       "      <td>...</td>\n",
       "      <td>0</td>\n",
       "      <td>0</td>\n",
       "      <td>0</td>\n",
       "      <td>0</td>\n",
       "      <td>0</td>\n",
       "      <td>0</td>\n",
       "      <td>0</td>\n",
       "      <td>0</td>\n",
       "      <td>0</td>\n",
       "      <td>0</td>\n",
       "    </tr>\n",
       "    <tr>\n",
       "      <th>9355</th>\n",
       "      <td>0</td>\n",
       "      <td>0</td>\n",
       "      <td>0</td>\n",
       "      <td>0</td>\n",
       "      <td>0</td>\n",
       "      <td>0</td>\n",
       "      <td>0</td>\n",
       "      <td>0</td>\n",
       "      <td>0</td>\n",
       "      <td>0</td>\n",
       "      <td>...</td>\n",
       "      <td>0</td>\n",
       "      <td>0</td>\n",
       "      <td>0</td>\n",
       "      <td>0</td>\n",
       "      <td>0</td>\n",
       "      <td>0</td>\n",
       "      <td>0</td>\n",
       "      <td>0</td>\n",
       "      <td>0</td>\n",
       "      <td>0</td>\n",
       "    </tr>\n",
       "    <tr>\n",
       "      <th>9356</th>\n",
       "      <td>0</td>\n",
       "      <td>0</td>\n",
       "      <td>0</td>\n",
       "      <td>0</td>\n",
       "      <td>0</td>\n",
       "      <td>0</td>\n",
       "      <td>0</td>\n",
       "      <td>0</td>\n",
       "      <td>0</td>\n",
       "      <td>0</td>\n",
       "      <td>...</td>\n",
       "      <td>0</td>\n",
       "      <td>0</td>\n",
       "      <td>0</td>\n",
       "      <td>0</td>\n",
       "      <td>0</td>\n",
       "      <td>0</td>\n",
       "      <td>0</td>\n",
       "      <td>0</td>\n",
       "      <td>0</td>\n",
       "      <td>0</td>\n",
       "    </tr>\n",
       "    <tr>\n",
       "      <th>9357</th>\n",
       "      <td>0</td>\n",
       "      <td>0</td>\n",
       "      <td>0</td>\n",
       "      <td>0</td>\n",
       "      <td>0</td>\n",
       "      <td>0</td>\n",
       "      <td>0</td>\n",
       "      <td>0</td>\n",
       "      <td>0</td>\n",
       "      <td>0</td>\n",
       "      <td>...</td>\n",
       "      <td>0</td>\n",
       "      <td>0</td>\n",
       "      <td>0</td>\n",
       "      <td>0</td>\n",
       "      <td>0</td>\n",
       "      <td>0</td>\n",
       "      <td>0</td>\n",
       "      <td>0</td>\n",
       "      <td>0</td>\n",
       "      <td>0</td>\n",
       "    </tr>\n",
       "    <tr>\n",
       "      <th>9359</th>\n",
       "      <td>0</td>\n",
       "      <td>0</td>\n",
       "      <td>0</td>\n",
       "      <td>0</td>\n",
       "      <td>0</td>\n",
       "      <td>0</td>\n",
       "      <td>0</td>\n",
       "      <td>0</td>\n",
       "      <td>0</td>\n",
       "      <td>0</td>\n",
       "      <td>...</td>\n",
       "      <td>0</td>\n",
       "      <td>0</td>\n",
       "      <td>0</td>\n",
       "      <td>0</td>\n",
       "      <td>0</td>\n",
       "      <td>0</td>\n",
       "      <td>0</td>\n",
       "      <td>0</td>\n",
       "      <td>0</td>\n",
       "      <td>0</td>\n",
       "    </tr>\n",
       "  </tbody>\n",
       "</table>\n",
       "<p>7307 rows × 53 columns</p>\n",
       "</div>"
      ],
      "text/plain": [
       "      Action  Action & Adventure  Adventure  Arcade  Art & Design  \\\n",
       "0          0                   0          0       0             1   \n",
       "1          0                   0          0       0             1   \n",
       "2          0                   0          0       0             1   \n",
       "4          0                   0          0       0             1   \n",
       "5          0                   0          0       0             1   \n",
       "...      ...                 ...        ...     ...           ...   \n",
       "9354       0                   0          0       0             0   \n",
       "9355       0                   0          0       0             0   \n",
       "9356       0                   0          0       0             0   \n",
       "9357       0                   0          0       0             0   \n",
       "9359       0                   0          0       0             0   \n",
       "\n",
       "      Auto & Vehicles  Beauty  Board  Books & Reference  Brain Games  ...  \\\n",
       "0                   0       0      0                  0            0  ...   \n",
       "1                   0       0      0                  0            0  ...   \n",
       "2                   0       0      0                  0            0  ...   \n",
       "4                   0       0      0                  0            0  ...   \n",
       "5                   0       0      0                  0            0  ...   \n",
       "...               ...     ...    ...                ...          ...  ...   \n",
       "9354                0       0      0                  1            0  ...   \n",
       "9355                0       0      0                  0            0  ...   \n",
       "9356                0       0      0                  0            0  ...   \n",
       "9357                0       0      0                  0            0  ...   \n",
       "9359                0       0      0                  0            0  ...   \n",
       "\n",
       "      Simulation  Social  Sports  Strategy  Tools  Travel & Local  Trivia  \\\n",
       "0              0       0       0         0      0               0       0   \n",
       "1              0       0       0         0      0               0       0   \n",
       "2              0       0       0         0      0               0       0   \n",
       "4              0       0       0         0      0               0       0   \n",
       "5              0       0       0         0      0               0       0   \n",
       "...          ...     ...     ...       ...    ...             ...     ...   \n",
       "9354           0       0       0         0      0               0       0   \n",
       "9355           0       0       0         0      0               0       0   \n",
       "9356           0       0       0         0      0               0       0   \n",
       "9357           0       0       0         0      0               0       0   \n",
       "9359           0       0       0         0      0               0       0   \n",
       "\n",
       "      Video Players & Editors  Weather  Word  \n",
       "0                           0        0     0  \n",
       "1                           0        0     0  \n",
       "2                           0        0     0  \n",
       "4                           0        0     0  \n",
       "5                           0        0     0  \n",
       "...                       ...      ...   ...  \n",
       "9354                        0        0     0  \n",
       "9355                        0        0     0  \n",
       "9356                        0        0     0  \n",
       "9357                        0        0     0  \n",
       "9359                        0        0     0  \n",
       "\n",
       "[7307 rows x 53 columns]"
      ]
     },
     "execution_count": 42,
     "metadata": {},
     "output_type": "execute_result"
    }
   ],
   "source": [
    "genres"
   ]
  },
  {
   "cell_type": "code",
   "execution_count": 43,
   "metadata": {},
   "outputs": [],
   "source": [
    "content = pd.get_dummies(inp1['Content Rating'])"
   ]
  },
  {
   "cell_type": "code",
   "execution_count": 44,
   "metadata": {},
   "outputs": [
    {
     "data": {
      "text/html": [
       "<div>\n",
       "<style scoped>\n",
       "    .dataframe tbody tr th:only-of-type {\n",
       "        vertical-align: middle;\n",
       "    }\n",
       "\n",
       "    .dataframe tbody tr th {\n",
       "        vertical-align: top;\n",
       "    }\n",
       "\n",
       "    .dataframe thead th {\n",
       "        text-align: right;\n",
       "    }\n",
       "</style>\n",
       "<table border=\"1\" class=\"dataframe\">\n",
       "  <thead>\n",
       "    <tr style=\"text-align: right;\">\n",
       "      <th></th>\n",
       "      <th>Adults only 18+</th>\n",
       "      <th>Everyone</th>\n",
       "      <th>Everyone 10+</th>\n",
       "      <th>Mature 17+</th>\n",
       "      <th>Teen</th>\n",
       "      <th>Unrated</th>\n",
       "    </tr>\n",
       "  </thead>\n",
       "  <tbody>\n",
       "    <tr>\n",
       "      <th>0</th>\n",
       "      <td>0</td>\n",
       "      <td>1</td>\n",
       "      <td>0</td>\n",
       "      <td>0</td>\n",
       "      <td>0</td>\n",
       "      <td>0</td>\n",
       "    </tr>\n",
       "    <tr>\n",
       "      <th>1</th>\n",
       "      <td>0</td>\n",
       "      <td>1</td>\n",
       "      <td>0</td>\n",
       "      <td>0</td>\n",
       "      <td>0</td>\n",
       "      <td>0</td>\n",
       "    </tr>\n",
       "    <tr>\n",
       "      <th>2</th>\n",
       "      <td>0</td>\n",
       "      <td>1</td>\n",
       "      <td>0</td>\n",
       "      <td>0</td>\n",
       "      <td>0</td>\n",
       "      <td>0</td>\n",
       "    </tr>\n",
       "    <tr>\n",
       "      <th>4</th>\n",
       "      <td>0</td>\n",
       "      <td>1</td>\n",
       "      <td>0</td>\n",
       "      <td>0</td>\n",
       "      <td>0</td>\n",
       "      <td>0</td>\n",
       "    </tr>\n",
       "    <tr>\n",
       "      <th>5</th>\n",
       "      <td>0</td>\n",
       "      <td>1</td>\n",
       "      <td>0</td>\n",
       "      <td>0</td>\n",
       "      <td>0</td>\n",
       "      <td>0</td>\n",
       "    </tr>\n",
       "  </tbody>\n",
       "</table>\n",
       "</div>"
      ],
      "text/plain": [
       "   Adults only 18+  Everyone  Everyone 10+  Mature 17+  Teen  Unrated\n",
       "0                0         1             0           0     0        0\n",
       "1                0         1             0           0     0        0\n",
       "2                0         1             0           0     0        0\n",
       "4                0         1             0           0     0        0\n",
       "5                0         1             0           0     0        0"
      ]
     },
     "execution_count": 44,
     "metadata": {},
     "output_type": "execute_result"
    }
   ],
   "source": [
    "content.head()"
   ]
  },
  {
   "cell_type": "code",
   "execution_count": 45,
   "metadata": {},
   "outputs": [],
   "source": [
    "cat_features = pd.concat([category, genres, content], axis = 1)"
   ]
  },
  {
   "cell_type": "code",
   "execution_count": 46,
   "metadata": {},
   "outputs": [
    {
     "name": "stdout",
     "output_type": "stream",
     "text": [
      "<class 'pandas.core.frame.DataFrame'>\n",
      "Int64Index: 7307 entries, 0 to 9359\n",
      "Data columns (total 92 columns):\n",
      " #   Column                   Non-Null Count  Dtype\n",
      "---  ------                   --------------  -----\n",
      " 0   ART_AND_DESIGN           7307 non-null   uint8\n",
      " 1   AUTO_AND_VEHICLES        7307 non-null   uint8\n",
      " 2   BEAUTY                   7307 non-null   uint8\n",
      " 3   BOOKS_AND_REFERENCE      7307 non-null   uint8\n",
      " 4   BUSINESS                 7307 non-null   uint8\n",
      " 5   COMICS                   7307 non-null   uint8\n",
      " 6   COMMUNICATION            7307 non-null   uint8\n",
      " 7   DATING                   7307 non-null   uint8\n",
      " 8   EDUCATION                7307 non-null   uint8\n",
      " 9   ENTERTAINMENT            7307 non-null   uint8\n",
      " 10  EVENTS                   7307 non-null   uint8\n",
      " 11  FAMILY                   7307 non-null   uint8\n",
      " 12  FINANCE                  7307 non-null   uint8\n",
      " 13  FOOD_AND_DRINK           7307 non-null   uint8\n",
      " 14  GAME                     7307 non-null   uint8\n",
      " 15  HEALTH_AND_FITNESS       7307 non-null   uint8\n",
      " 16  HOUSE_AND_HOME           7307 non-null   uint8\n",
      " 17  LIBRARIES_AND_DEMO       7307 non-null   uint8\n",
      " 18  LIFESTYLE                7307 non-null   uint8\n",
      " 19  MAPS_AND_NAVIGATION      7307 non-null   uint8\n",
      " 20  MEDICAL                  7307 non-null   uint8\n",
      " 21  NEWS_AND_MAGAZINES       7307 non-null   uint8\n",
      " 22  PARENTING                7307 non-null   uint8\n",
      " 23  PERSONALIZATION          7307 non-null   uint8\n",
      " 24  PHOTOGRAPHY              7307 non-null   uint8\n",
      " 25  PRODUCTIVITY             7307 non-null   uint8\n",
      " 26  SHOPPING                 7307 non-null   uint8\n",
      " 27  SOCIAL                   7307 non-null   uint8\n",
      " 28  SPORTS                   7307 non-null   uint8\n",
      " 29  TOOLS                    7307 non-null   uint8\n",
      " 30  TRAVEL_AND_LOCAL         7307 non-null   uint8\n",
      " 31  VIDEO_PLAYERS            7307 non-null   uint8\n",
      " 32  WEATHER                  7307 non-null   uint8\n",
      " 33  Action                   7307 non-null   int64\n",
      " 34  Action & Adventure       7307 non-null   int64\n",
      " 35  Adventure                7307 non-null   int64\n",
      " 36  Arcade                   7307 non-null   int64\n",
      " 37  Art & Design             7307 non-null   int64\n",
      " 38  Auto & Vehicles          7307 non-null   int64\n",
      " 39  Beauty                   7307 non-null   int64\n",
      " 40  Board                    7307 non-null   int64\n",
      " 41  Books & Reference        7307 non-null   int64\n",
      " 42  Brain Games              7307 non-null   int64\n",
      " 43  Business                 7307 non-null   int64\n",
      " 44  Card                     7307 non-null   int64\n",
      " 45  Casino                   7307 non-null   int64\n",
      " 46  Casual                   7307 non-null   int64\n",
      " 47  Comics                   7307 non-null   int64\n",
      " 48  Communication            7307 non-null   int64\n",
      " 49  Creativity               7307 non-null   int64\n",
      " 50  Dating                   7307 non-null   int64\n",
      " 51  Education                7307 non-null   int64\n",
      " 52  Educational              7307 non-null   int64\n",
      " 53  Entertainment            7307 non-null   int64\n",
      " 54  Events                   7307 non-null   int64\n",
      " 55  Finance                  7307 non-null   int64\n",
      " 56  Food & Drink             7307 non-null   int64\n",
      " 57  Health & Fitness         7307 non-null   int64\n",
      " 58  House & Home             7307 non-null   int64\n",
      " 59  Libraries & Demo         7307 non-null   int64\n",
      " 60  Lifestyle                7307 non-null   int64\n",
      " 61  Maps & Navigation        7307 non-null   int64\n",
      " 62  Medical                  7307 non-null   int64\n",
      " 63  Music                    7307 non-null   int64\n",
      " 64  Music & Audio            7307 non-null   int64\n",
      " 65  Music & Video            7307 non-null   int64\n",
      " 66  News & Magazines         7307 non-null   int64\n",
      " 67  Parenting                7307 non-null   int64\n",
      " 68  Personalization          7307 non-null   int64\n",
      " 69  Photography              7307 non-null   int64\n",
      " 70  Pretend Play             7307 non-null   int64\n",
      " 71  Productivity             7307 non-null   int64\n",
      " 72  Puzzle                   7307 non-null   int64\n",
      " 73  Racing                   7307 non-null   int64\n",
      " 74  Role Playing             7307 non-null   int64\n",
      " 75  Shopping                 7307 non-null   int64\n",
      " 76  Simulation               7307 non-null   int64\n",
      " 77  Social                   7307 non-null   int64\n",
      " 78  Sports                   7307 non-null   int64\n",
      " 79  Strategy                 7307 non-null   int64\n",
      " 80  Tools                    7307 non-null   int64\n",
      " 81  Travel & Local           7307 non-null   int64\n",
      " 82  Trivia                   7307 non-null   int64\n",
      " 83  Video Players & Editors  7307 non-null   int64\n",
      " 84  Weather                  7307 non-null   int64\n",
      " 85  Word                     7307 non-null   int64\n",
      " 86  Adults only 18+          7307 non-null   uint8\n",
      " 87  Everyone                 7307 non-null   uint8\n",
      " 88  Everyone 10+             7307 non-null   uint8\n",
      " 89  Mature 17+               7307 non-null   uint8\n",
      " 90  Teen                     7307 non-null   uint8\n",
      " 91  Unrated                  7307 non-null   uint8\n",
      "dtypes: int64(53), uint8(39)\n",
      "memory usage: 3.6 MB\n"
     ]
    }
   ],
   "source": [
    "cat_features.info()"
   ]
  },
  {
   "cell_type": "markdown",
   "metadata": {},
   "source": [
    "Regularizing the dataset for all the categorical features."
   ]
  },
  {
   "cell_type": "code",
   "execution_count": 47,
   "metadata": {},
   "outputs": [],
   "source": [
    "cat_features = cat_features.astype('int64')"
   ]
  },
  {
   "cell_type": "code",
   "execution_count": 48,
   "metadata": {},
   "outputs": [
    {
     "name": "stdout",
     "output_type": "stream",
     "text": [
      "<class 'pandas.core.frame.DataFrame'>\n",
      "Int64Index: 7307 entries, 0 to 9359\n",
      "Data columns (total 92 columns):\n",
      " #   Column                   Non-Null Count  Dtype\n",
      "---  ------                   --------------  -----\n",
      " 0   ART_AND_DESIGN           7307 non-null   int64\n",
      " 1   AUTO_AND_VEHICLES        7307 non-null   int64\n",
      " 2   BEAUTY                   7307 non-null   int64\n",
      " 3   BOOKS_AND_REFERENCE      7307 non-null   int64\n",
      " 4   BUSINESS                 7307 non-null   int64\n",
      " 5   COMICS                   7307 non-null   int64\n",
      " 6   COMMUNICATION            7307 non-null   int64\n",
      " 7   DATING                   7307 non-null   int64\n",
      " 8   EDUCATION                7307 non-null   int64\n",
      " 9   ENTERTAINMENT            7307 non-null   int64\n",
      " 10  EVENTS                   7307 non-null   int64\n",
      " 11  FAMILY                   7307 non-null   int64\n",
      " 12  FINANCE                  7307 non-null   int64\n",
      " 13  FOOD_AND_DRINK           7307 non-null   int64\n",
      " 14  GAME                     7307 non-null   int64\n",
      " 15  HEALTH_AND_FITNESS       7307 non-null   int64\n",
      " 16  HOUSE_AND_HOME           7307 non-null   int64\n",
      " 17  LIBRARIES_AND_DEMO       7307 non-null   int64\n",
      " 18  LIFESTYLE                7307 non-null   int64\n",
      " 19  MAPS_AND_NAVIGATION      7307 non-null   int64\n",
      " 20  MEDICAL                  7307 non-null   int64\n",
      " 21  NEWS_AND_MAGAZINES       7307 non-null   int64\n",
      " 22  PARENTING                7307 non-null   int64\n",
      " 23  PERSONALIZATION          7307 non-null   int64\n",
      " 24  PHOTOGRAPHY              7307 non-null   int64\n",
      " 25  PRODUCTIVITY             7307 non-null   int64\n",
      " 26  SHOPPING                 7307 non-null   int64\n",
      " 27  SOCIAL                   7307 non-null   int64\n",
      " 28  SPORTS                   7307 non-null   int64\n",
      " 29  TOOLS                    7307 non-null   int64\n",
      " 30  TRAVEL_AND_LOCAL         7307 non-null   int64\n",
      " 31  VIDEO_PLAYERS            7307 non-null   int64\n",
      " 32  WEATHER                  7307 non-null   int64\n",
      " 33  Action                   7307 non-null   int64\n",
      " 34  Action & Adventure       7307 non-null   int64\n",
      " 35  Adventure                7307 non-null   int64\n",
      " 36  Arcade                   7307 non-null   int64\n",
      " 37  Art & Design             7307 non-null   int64\n",
      " 38  Auto & Vehicles          7307 non-null   int64\n",
      " 39  Beauty                   7307 non-null   int64\n",
      " 40  Board                    7307 non-null   int64\n",
      " 41  Books & Reference        7307 non-null   int64\n",
      " 42  Brain Games              7307 non-null   int64\n",
      " 43  Business                 7307 non-null   int64\n",
      " 44  Card                     7307 non-null   int64\n",
      " 45  Casino                   7307 non-null   int64\n",
      " 46  Casual                   7307 non-null   int64\n",
      " 47  Comics                   7307 non-null   int64\n",
      " 48  Communication            7307 non-null   int64\n",
      " 49  Creativity               7307 non-null   int64\n",
      " 50  Dating                   7307 non-null   int64\n",
      " 51  Education                7307 non-null   int64\n",
      " 52  Educational              7307 non-null   int64\n",
      " 53  Entertainment            7307 non-null   int64\n",
      " 54  Events                   7307 non-null   int64\n",
      " 55  Finance                  7307 non-null   int64\n",
      " 56  Food & Drink             7307 non-null   int64\n",
      " 57  Health & Fitness         7307 non-null   int64\n",
      " 58  House & Home             7307 non-null   int64\n",
      " 59  Libraries & Demo         7307 non-null   int64\n",
      " 60  Lifestyle                7307 non-null   int64\n",
      " 61  Maps & Navigation        7307 non-null   int64\n",
      " 62  Medical                  7307 non-null   int64\n",
      " 63  Music                    7307 non-null   int64\n",
      " 64  Music & Audio            7307 non-null   int64\n",
      " 65  Music & Video            7307 non-null   int64\n",
      " 66  News & Magazines         7307 non-null   int64\n",
      " 67  Parenting                7307 non-null   int64\n",
      " 68  Personalization          7307 non-null   int64\n",
      " 69  Photography              7307 non-null   int64\n",
      " 70  Pretend Play             7307 non-null   int64\n",
      " 71  Productivity             7307 non-null   int64\n",
      " 72  Puzzle                   7307 non-null   int64\n",
      " 73  Racing                   7307 non-null   int64\n",
      " 74  Role Playing             7307 non-null   int64\n",
      " 75  Shopping                 7307 non-null   int64\n",
      " 76  Simulation               7307 non-null   int64\n",
      " 77  Social                   7307 non-null   int64\n",
      " 78  Sports                   7307 non-null   int64\n",
      " 79  Strategy                 7307 non-null   int64\n",
      " 80  Tools                    7307 non-null   int64\n",
      " 81  Travel & Local           7307 non-null   int64\n",
      " 82  Trivia                   7307 non-null   int64\n",
      " 83  Video Players & Editors  7307 non-null   int64\n",
      " 84  Weather                  7307 non-null   int64\n",
      " 85  Word                     7307 non-null   int64\n",
      " 86  Adults only 18+          7307 non-null   int64\n",
      " 87  Everyone                 7307 non-null   int64\n",
      " 88  Everyone 10+             7307 non-null   int64\n",
      " 89  Mature 17+               7307 non-null   int64\n",
      " 90  Teen                     7307 non-null   int64\n",
      " 91  Unrated                  7307 non-null   int64\n",
      "dtypes: int64(92)\n",
      "memory usage: 5.5 MB\n"
     ]
    }
   ],
   "source": [
    "cat_features.info()"
   ]
  },
  {
   "cell_type": "code",
   "execution_count": 49,
   "metadata": {},
   "outputs": [],
   "source": [
    "inp2 = pd.concat([inp1, cat_features], axis = 1).drop(['Category', 'Genres', 'Content Rating', 'Type'], axis = 1).reset_index()"
   ]
  },
  {
   "cell_type": "code",
   "execution_count": 50,
   "metadata": {},
   "outputs": [
    {
     "name": "stdout",
     "output_type": "stream",
     "text": [
      "<class 'pandas.core.frame.DataFrame'>\n",
      "RangeIndex: 7307 entries, 0 to 7306\n",
      "Data columns (total 98 columns):\n",
      " #   Column                   Non-Null Count  Dtype  \n",
      "---  ------                   --------------  -----  \n",
      " 0   index                    7307 non-null   int64  \n",
      " 1   Rating                   7307 non-null   float64\n",
      " 2   Reviews                  7307 non-null   float64\n",
      " 3   Size                     7307 non-null   float64\n",
      " 4   Installs                 7307 non-null   float64\n",
      " 5   Price                    7307 non-null   float64\n",
      " 6   ART_AND_DESIGN           7307 non-null   int64  \n",
      " 7   AUTO_AND_VEHICLES        7307 non-null   int64  \n",
      " 8   BEAUTY                   7307 non-null   int64  \n",
      " 9   BOOKS_AND_REFERENCE      7307 non-null   int64  \n",
      " 10  BUSINESS                 7307 non-null   int64  \n",
      " 11  COMICS                   7307 non-null   int64  \n",
      " 12  COMMUNICATION            7307 non-null   int64  \n",
      " 13  DATING                   7307 non-null   int64  \n",
      " 14  EDUCATION                7307 non-null   int64  \n",
      " 15  ENTERTAINMENT            7307 non-null   int64  \n",
      " 16  EVENTS                   7307 non-null   int64  \n",
      " 17  FAMILY                   7307 non-null   int64  \n",
      " 18  FINANCE                  7307 non-null   int64  \n",
      " 19  FOOD_AND_DRINK           7307 non-null   int64  \n",
      " 20  GAME                     7307 non-null   int64  \n",
      " 21  HEALTH_AND_FITNESS       7307 non-null   int64  \n",
      " 22  HOUSE_AND_HOME           7307 non-null   int64  \n",
      " 23  LIBRARIES_AND_DEMO       7307 non-null   int64  \n",
      " 24  LIFESTYLE                7307 non-null   int64  \n",
      " 25  MAPS_AND_NAVIGATION      7307 non-null   int64  \n",
      " 26  MEDICAL                  7307 non-null   int64  \n",
      " 27  NEWS_AND_MAGAZINES       7307 non-null   int64  \n",
      " 28  PARENTING                7307 non-null   int64  \n",
      " 29  PERSONALIZATION          7307 non-null   int64  \n",
      " 30  PHOTOGRAPHY              7307 non-null   int64  \n",
      " 31  PRODUCTIVITY             7307 non-null   int64  \n",
      " 32  SHOPPING                 7307 non-null   int64  \n",
      " 33  SOCIAL                   7307 non-null   int64  \n",
      " 34  SPORTS                   7307 non-null   int64  \n",
      " 35  TOOLS                    7307 non-null   int64  \n",
      " 36  TRAVEL_AND_LOCAL         7307 non-null   int64  \n",
      " 37  VIDEO_PLAYERS            7307 non-null   int64  \n",
      " 38  WEATHER                  7307 non-null   int64  \n",
      " 39  Action                   7307 non-null   int64  \n",
      " 40  Action & Adventure       7307 non-null   int64  \n",
      " 41  Adventure                7307 non-null   int64  \n",
      " 42  Arcade                   7307 non-null   int64  \n",
      " 43  Art & Design             7307 non-null   int64  \n",
      " 44  Auto & Vehicles          7307 non-null   int64  \n",
      " 45  Beauty                   7307 non-null   int64  \n",
      " 46  Board                    7307 non-null   int64  \n",
      " 47  Books & Reference        7307 non-null   int64  \n",
      " 48  Brain Games              7307 non-null   int64  \n",
      " 49  Business                 7307 non-null   int64  \n",
      " 50  Card                     7307 non-null   int64  \n",
      " 51  Casino                   7307 non-null   int64  \n",
      " 52  Casual                   7307 non-null   int64  \n",
      " 53  Comics                   7307 non-null   int64  \n",
      " 54  Communication            7307 non-null   int64  \n",
      " 55  Creativity               7307 non-null   int64  \n",
      " 56  Dating                   7307 non-null   int64  \n",
      " 57  Education                7307 non-null   int64  \n",
      " 58  Educational              7307 non-null   int64  \n",
      " 59  Entertainment            7307 non-null   int64  \n",
      " 60  Events                   7307 non-null   int64  \n",
      " 61  Finance                  7307 non-null   int64  \n",
      " 62  Food & Drink             7307 non-null   int64  \n",
      " 63  Health & Fitness         7307 non-null   int64  \n",
      " 64  House & Home             7307 non-null   int64  \n",
      " 65  Libraries & Demo         7307 non-null   int64  \n",
      " 66  Lifestyle                7307 non-null   int64  \n",
      " 67  Maps & Navigation        7307 non-null   int64  \n",
      " 68  Medical                  7307 non-null   int64  \n",
      " 69  Music                    7307 non-null   int64  \n",
      " 70  Music & Audio            7307 non-null   int64  \n",
      " 71  Music & Video            7307 non-null   int64  \n",
      " 72  News & Magazines         7307 non-null   int64  \n",
      " 73  Parenting                7307 non-null   int64  \n",
      " 74  Personalization          7307 non-null   int64  \n",
      " 75  Photography              7307 non-null   int64  \n",
      " 76  Pretend Play             7307 non-null   int64  \n",
      " 77  Productivity             7307 non-null   int64  \n",
      " 78  Puzzle                   7307 non-null   int64  \n",
      " 79  Racing                   7307 non-null   int64  \n",
      " 80  Role Playing             7307 non-null   int64  \n",
      " 81  Shopping                 7307 non-null   int64  \n",
      " 82  Simulation               7307 non-null   int64  \n",
      " 83  Social                   7307 non-null   int64  \n",
      " 84  Sports                   7307 non-null   int64  \n",
      " 85  Strategy                 7307 non-null   int64  \n",
      " 86  Tools                    7307 non-null   int64  \n",
      " 87  Travel & Local           7307 non-null   int64  \n",
      " 88  Trivia                   7307 non-null   int64  \n",
      " 89  Video Players & Editors  7307 non-null   int64  \n",
      " 90  Weather                  7307 non-null   int64  \n",
      " 91  Word                     7307 non-null   int64  \n",
      " 92  Adults only 18+          7307 non-null   int64  \n",
      " 93  Everyone                 7307 non-null   int64  \n",
      " 94  Everyone 10+             7307 non-null   int64  \n",
      " 95  Mature 17+               7307 non-null   int64  \n",
      " 96  Teen                     7307 non-null   int64  \n",
      " 97  Unrated                  7307 non-null   int64  \n",
      "dtypes: float64(5), int64(93)\n",
      "memory usage: 5.5 MB\n"
     ]
    }
   ],
   "source": [
    "inp2.info()"
   ]
  },
  {
   "cell_type": "code",
   "execution_count": 51,
   "metadata": {},
   "outputs": [],
   "source": [
    "inp2.drop(['index'], 1, inplace=True)"
   ]
  },
  {
   "cell_type": "markdown",
   "metadata": {},
   "source": [
    "#### 10. Train test split  and apply 70-30 split. Name the new dataframes df_train and df_test. Separate the dataframes into X_train, y_train, X_test, and y_test."
   ]
  },
  {
   "cell_type": "code",
   "execution_count": 52,
   "metadata": {},
   "outputs": [],
   "source": [
    "X_train, X_test, y_train, y_test = train_test_split(inp2.drop(['Rating'], 1), inp2['Rating'], test_size = 0.3, random_state = 42)"
   ]
  },
  {
   "cell_type": "code",
   "execution_count": 53,
   "metadata": {},
   "outputs": [
    {
     "name": "stdout",
     "output_type": "stream",
     "text": [
      "Shape of training features: (5114, 96)\n",
      "Shape of training output: (5114,)\n",
      "Shape of testing features (2193, 96)\n",
      "Shape of testing output (2193,)\n"
     ]
    }
   ],
   "source": [
    "print('Shape of training features:', X_train.shape)\n",
    "print('Shape of training output:', y_train.shape)\n",
    "print('Shape of testing features', X_test.shape)\n",
    "print('Shape of testing output', y_test.shape)"
   ]
  },
  {
   "cell_type": "markdown",
   "metadata": {},
   "source": [
    "#### 11. Model Building"
   ]
  },
  {
   "cell_type": "markdown",
   "metadata": {},
   "source": [
    "##### * Use linear regression as the technique"
   ]
  },
  {
   "cell_type": "code",
   "execution_count": 54,
   "metadata": {},
   "outputs": [],
   "source": [
    "lin_reg = LinearRegression()"
   ]
  },
  {
   "cell_type": "code",
   "execution_count": 55,
   "metadata": {},
   "outputs": [
    {
     "data": {
      "text/plain": [
       "LinearRegression()"
      ]
     },
     "execution_count": 55,
     "metadata": {},
     "output_type": "execute_result"
    }
   ],
   "source": [
    "lin_reg.fit(X_train, y_train)"
   ]
  },
  {
   "cell_type": "markdown",
   "metadata": {},
   "source": [
    "##### * Report the R2 on the train set"
   ]
  },
  {
   "cell_type": "code",
   "execution_count": 56,
   "metadata": {},
   "outputs": [
    {
     "name": "stdout",
     "output_type": "stream",
     "text": [
      "R2 on the training set is: 0.1537\n"
     ]
    }
   ],
   "source": [
    "print('R2 on the training set is:', round(lin_reg.score(X_train, y_train), 4))"
   ]
  },
  {
   "cell_type": "markdown",
   "metadata": {},
   "source": [
    "#### 12. Make predictions on test set and report R2."
   ]
  },
  {
   "cell_type": "code",
   "execution_count": 57,
   "metadata": {},
   "outputs": [],
   "source": [
    "y_pred = lin_reg.predict(X_test)"
   ]
  },
  {
   "cell_type": "code",
   "execution_count": 58,
   "metadata": {},
   "outputs": [
    {
     "name": "stdout",
     "output_type": "stream",
     "text": [
      "R2 on the test set is: 0.1222\n"
     ]
    }
   ],
   "source": [
    "print('R2 on the test set is:', round(lin_reg.score(X_test, y_test), 4))"
   ]
  }
 ],
 "metadata": {
  "kernelspec": {
   "display_name": "Python 3",
   "language": "python",
   "name": "python3"
  },
  "language_info": {
   "codemirror_mode": {
    "name": "ipython",
    "version": 3
   },
   "file_extension": ".py",
   "mimetype": "text/x-python",
   "name": "python",
   "nbconvert_exporter": "python",
   "pygments_lexer": "ipython3",
   "version": "3.8.3"
  }
 },
 "nbformat": 4,
 "nbformat_minor": 4
}
